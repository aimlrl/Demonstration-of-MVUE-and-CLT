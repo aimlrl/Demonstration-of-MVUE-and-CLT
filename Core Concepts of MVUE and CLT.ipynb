{
 "cells": [
  {
   "cell_type": "code",
   "execution_count": 1,
   "metadata": {},
   "outputs": [],
   "source": [
    "import numpy as np\n",
    "\n",
    "import scipy.stats as s"
   ]
  },
  {
   "cell_type": "code",
   "execution_count": 37,
   "metadata": {},
   "outputs": [],
   "source": [
    "sample_size = 8000000"
   ]
  },
  {
   "cell_type": "code",
   "execution_count": 38,
   "metadata": {},
   "outputs": [],
   "source": [
    "sample = np.random.normal(loc=170,scale=7,size=(sample_size,))"
   ]
  },
  {
   "cell_type": "code",
   "execution_count": 39,
   "metadata": {},
   "outputs": [],
   "source": [
    "import matplotlib.pyplot as plt "
   ]
  },
  {
   "cell_type": "code",
   "execution_count": 42,
   "metadata": {},
   "outputs": [
    {
     "data": {
      "text/plain": [
       "Text(0, 0.5, 'Frequency')"
      ]
     },
     "execution_count": 42,
     "metadata": {},
     "output_type": "execute_result"
    },
    {
     "data": {
      "image/png": "[encoded data removed]",
      "text/plain": [
       "<Figure size 432x288 with 1 Axes>"
      ]
     },
     "metadata": {
      "needs_background": "light"
     },
     "output_type": "display_data"
    }
   ],
   "source": [
    "plt.hist(sample,bins=100)\n",
    "\n",
    "plt.xlabel(\"Random Variable (X, Weight)\")\n",
    "\n",
    "plt.ylabel(\"Frequency\")"
   ]
  },
  {
   "cell_type": "code",
   "execution_count": 59,
   "metadata": {},
   "outputs": [],
   "source": [
    "N = 2\n",
    "\n",
    "samples = np.random.normal(loc=170,scale=7,size=(500,N))"
   ]
  },
  {
   "cell_type": "code",
   "execution_count": 60,
   "metadata": {},
   "outputs": [
    {
     "data": {
      "text/plain": [
       "array([[160.08465958, 171.48903136],\n",
       "       [175.15058681, 175.09738446],\n",
       "       [182.55404216, 163.26899828],\n",
       "       [175.02493428, 169.80418043],\n",
       "       [169.01448905, 159.39138108],\n",
       "       [155.702233  , 172.10800108],\n",
       "       [175.5831822 , 182.45606467],\n",
       "       [177.2624054 , 167.64571658],\n",
       "       [172.99177205, 168.4339676 ],\n",
       "       [173.29044289, 171.78299876],\n",
       "       [169.72521257, 165.45458506],\n",
       "       [165.09856075, 180.52891046],\n",
       "       [172.87269505, 174.38532309],\n",
       "       [170.42239583, 174.54331349],\n",
       "       [164.19818361, 156.98667117],\n",
       "       [166.41678394, 181.46277049],\n",
       "       [167.76476685, 164.57496399],\n",
       "       [165.03568418, 165.16297213],\n",
       "       [170.5911689 , 178.50636033],\n",
       "       [181.74889751, 171.43781861],\n",
       "       [167.49168936, 161.94882364],\n",
       "       [173.54751191, 188.29623106],\n",
       "       [159.08144081, 174.6736825 ],\n",
       "       [165.83899133, 161.47593583],\n",
       "       [159.7472241 , 161.04241093],\n",
       "       [172.98457614, 173.67195058],\n",
       "       [161.09034145, 167.61937024],\n",
       "       [184.48536419, 160.71862775],\n",
       "       [175.525598  , 167.69985809],\n",
       "       [165.84549413, 165.63854098],\n",
       "       [169.62581798, 165.56591044],\n",
       "       [163.65470721, 168.20779875],\n",
       "       [176.56352881, 173.16095988],\n",
       "       [171.67376917, 169.98802821],\n",
       "       [162.37403406, 168.6741279 ],\n",
       "       [150.08467391, 174.51945762],\n",
       "       [169.42812504, 162.77044578],\n",
       "       [179.97261113, 169.83237006],\n",
       "       [179.78410367, 161.40480628],\n",
       "       [162.75463538, 181.19318734],\n",
       "       [161.57941831, 172.45782871],\n",
       "       [178.01156535, 178.47440325],\n",
       "       [171.12116154, 184.19717952],\n",
       "       [173.31802107, 174.12153273],\n",
       "       [174.59699704, 174.26284773],\n",
       "       [172.60364857, 159.85222938],\n",
       "       [168.58077145, 157.06092731],\n",
       "       [172.67894958, 174.33212187],\n",
       "       [176.12774391, 171.4758916 ],\n",
       "       [162.56512464, 174.07889986],\n",
       "       [169.28815894, 164.95149158],\n",
       "       [175.31558752, 178.83406179],\n",
       "       [164.17866137, 177.78276562],\n",
       "       [164.26423663, 170.927535  ],\n",
       "       [181.76693511, 171.69493866],\n",
       "       [168.20730605, 169.22876371],\n",
       "       [173.76926124, 179.05092541],\n",
       "       [167.59230967, 187.82754179],\n",
       "       [179.36197681, 177.02918674],\n",
       "       [165.5166008 , 168.29692138],\n",
       "       [180.15414364, 173.48719796],\n",
       "       [169.64543002, 164.54678371],\n",
       "       [167.11519295, 174.37900331],\n",
       "       [158.7920337 , 163.23513601],\n",
       "       [168.93812072, 179.31989689],\n",
       "       [167.6421256 , 171.31321479],\n",
       "       [161.12218764, 162.01663167],\n",
       "       [169.14022512, 181.67467706],\n",
       "       [172.54013632, 168.28893488],\n",
       "       [150.36555424, 173.74274182],\n",
       "       [168.19282662, 169.88427236],\n",
       "       [170.68057969, 173.72307424],\n",
       "       [177.0222167 , 155.55340235],\n",
       "       [186.24916174, 171.91016638],\n",
       "       [167.41603666, 174.75379447],\n",
       "       [171.21499242, 176.21699051],\n",
       "       [170.75581075, 166.47683583],\n",
       "       [171.82240146, 162.87248883],\n",
       "       [172.72761671, 170.98720619],\n",
       "       [160.33799664, 175.91673915],\n",
       "       [178.08586577, 177.60601004],\n",
       "       [172.97036047, 181.99061147],\n",
       "       [174.91867041, 178.40319148],\n",
       "       [170.42860475, 170.97957112],\n",
       "       [158.26030472, 172.44187741],\n",
       "       [165.15507285, 172.48480997],\n",
       "       [178.24954766, 170.40480927],\n",
       "       [172.58268109, 171.17112843],\n",
       "       [175.23396022, 181.94838638],\n",
       "       [176.14436823, 168.47131538],\n",
       "       [180.28697563, 175.283942  ],\n",
       "       [165.9737688 , 165.3263899 ],\n",
       "       [167.50325297, 168.21145911],\n",
       "       [162.05461106, 165.37122214],\n",
       "       [176.45955146, 176.60932484],\n",
       "       [159.63313238, 162.22392445],\n",
       "       [174.76167592, 164.6075938 ],\n",
       "       [169.92582045, 156.20936062],\n",
       "       [178.83843562, 166.66900807],\n",
       "       [164.78406944, 163.22454524],\n",
       "       [167.21396087, 161.12480523],\n",
       "       [173.83403792, 179.71353373],\n",
       "       [163.29500005, 164.58162991],\n",
       "       [162.51850297, 186.72447424],\n",
       "       [167.80424986, 165.69539997],\n",
       "       [174.59625352, 166.27833002],\n",
       "       [169.73297955, 169.88034692],\n",
       "       [166.30486482, 181.08977194],\n",
       "       [170.47702458, 172.79175261],\n",
       "       [155.24244943, 176.94227252],\n",
       "       [167.29435412, 172.63826937],\n",
       "       [173.383082  , 160.2773704 ],\n",
       "       [160.2856398 , 165.10092679],\n",
       "       [159.3245086 , 166.99657823],\n",
       "       [150.325007  , 157.08275774],\n",
       "       [166.73383645, 164.86414634],\n",
       "       [174.25913475, 163.7053232 ],\n",
       "       [176.73908197, 165.22198588],\n",
       "       [170.77008676, 171.35834277],\n",
       "       [177.95223352, 187.59667701],\n",
       "       [173.89016915, 170.58104486],\n",
       "       [163.90597387, 169.63915079],\n",
       "       [172.7632682 , 166.33446752],\n",
       "       [170.532266  , 170.14762169],\n",
       "       [164.95907024, 176.26009686],\n",
       "       [164.42350875, 167.64945613],\n",
       "       [188.88277981, 177.5002356 ],\n",
       "       [173.49958942, 170.78587035],\n",
       "       [176.86489737, 180.11944243],\n",
       "       [175.59969776, 160.53258582],\n",
       "       [164.25475562, 161.47051601],\n",
       "       [163.40952084, 173.45593019],\n",
       "       [174.7605227 , 168.80997131],\n",
       "       [180.71038542, 169.18349648],\n",
       "       [165.4385778 , 165.74320174],\n",
       "       [161.86112345, 178.51906878],\n",
       "       [169.09230083, 168.88129355],\n",
       "       [182.60143569, 175.92367373],\n",
       "       [170.15851425, 165.06964552],\n",
       "       [170.13518056, 166.67559595],\n",
       "       [190.41395125, 162.39854643],\n",
       "       [173.22946609, 166.01277628],\n",
       "       [176.84939467, 158.63884737],\n",
       "       [170.76542013, 161.37783184],\n",
       "       [174.18405473, 165.34477343],\n",
       "       [170.48973308, 182.70448964],\n",
       "       [179.89918055, 168.31859133],\n",
       "       [167.86006237, 174.51247447],\n",
       "       [164.71646642, 178.92729023],\n",
       "       [170.34836426, 171.27460828],\n",
       "       [175.76147936, 167.79056373],\n",
       "       [176.63811103, 155.87845633],\n",
       "       [165.91927299, 155.37114415],\n",
       "       [169.90539577, 166.29609414],\n",
       "       [164.67961346, 174.02336478],\n",
       "       [167.14872839, 172.28164039],\n",
       "       [175.94335166, 179.87013124],\n",
       "       [159.91125935, 171.07614071],\n",
       "       [159.57773977, 172.38754032],\n",
       "       [164.03452   , 163.24804553],\n",
       "       [172.09915628, 174.47935949],\n",
       "       [172.63257962, 175.13598245],\n",
       "       [174.38903442, 170.93497978],\n",
       "       [167.30622818, 182.66071523],\n",
       "       [165.77051222, 168.28152133],\n",
       "       [177.66900628, 167.88759987],\n",
       "       [173.01944525, 166.00889773],\n",
       "       [165.84440208, 168.22601374],\n",
       "       [181.9188172 , 151.73686517],\n",
       "       [168.56379097, 165.75614391],\n",
       "       [176.18769173, 168.32830903],\n",
       "       [166.33593367, 169.14697327],\n",
       "       [172.51198255, 159.92361935],\n",
       "       [170.38322271, 178.55867714],\n",
       "       [166.58215364, 165.4868898 ],\n",
       "       [171.54362497, 171.31108287],\n",
       "       [161.99066218, 163.69730708],\n",
       "       [164.52011376, 166.62092755],\n",
       "       [171.59947999, 170.06042511],\n",
       "       [171.55358152, 168.30220024],\n",
       "       [179.30181005, 173.69335487],\n",
       "       [177.77981954, 168.48787057],\n",
       "       [152.21398338, 187.98393522],\n",
       "       [179.58526441, 170.83848967],\n",
       "       [165.53136453, 160.43506051],\n",
       "       [170.63222825, 167.0956691 ],\n",
       "       [164.32466746, 168.66622391],\n",
       "       [154.14985323, 168.1938417 ],\n",
       "       [171.8951552 , 158.28199562],\n",
       "       [172.7934275 , 162.24798314],\n",
       "       [167.20762114, 171.1301991 ],\n",
       "       [163.77588306, 172.0853059 ],\n",
       "       [164.68041667, 168.34906141],\n",
       "       [174.0120956 , 180.16011724],\n",
       "       [174.38819539, 171.88564508],\n",
       "       [166.67657242, 173.90515355],\n",
       "       [169.91894183, 159.19435783],\n",
       "       [169.64186982, 156.81216606],\n",
       "       [172.64171267, 173.81294862],\n",
       "       [169.89409312, 165.20815294],\n",
       "       [169.5145284 , 180.22589962],\n",
       "       [174.24361905, 170.2926906 ],\n",
       "       [156.28576402, 171.33288902],\n",
       "       [173.78112437, 176.70205036],\n",
       "       [171.61746521, 161.97073589],\n",
       "       [170.70651634, 153.33030459],\n",
       "       [178.33250651, 176.10061136],\n",
       "       [179.3708708 , 168.50147054],\n",
       "       [169.79781705, 172.75776032],\n",
       "       [187.38165052, 173.32547215],\n",
       "       [178.21481807, 168.37968168],\n",
       "       [161.33574339, 173.84585628],\n",
       "       [166.97202665, 154.68311356],\n",
       "       [180.35875588, 163.48311052],\n",
       "       [175.09734339, 173.62274   ],\n",
       "       [169.39365606, 165.90117173],\n",
       "       [160.73936605, 162.79802677],\n",
       "       [166.83073543, 167.32299822],\n",
       "       [172.73694207, 184.13397239],\n",
       "       [175.4116628 , 166.58391862],\n",
       "       [180.33367369, 156.28871645],\n",
       "       [162.58722835, 161.61852339],\n",
       "       [179.34434265, 167.11761685],\n",
       "       [162.63045266, 162.57296688],\n",
       "       [178.59860162, 171.87496751],\n",
       "       [172.09964525, 177.23013256],\n",
       "       [159.73928775, 184.96192206],\n",
       "       [170.49755226, 170.76850461],\n",
       "       [166.43692054, 155.35559743],\n",
       "       [167.77435819, 170.63661689],\n",
       "       [173.4280289 , 166.32241341],\n",
       "       [171.08560674, 164.51130722],\n",
       "       [165.75893974, 159.36481909],\n",
       "       [167.12832227, 173.48184784],\n",
       "       [174.64983423, 152.46775118],\n",
       "       [174.82980603, 164.90541782],\n",
       "       [179.34178434, 165.91612378],\n",
       "       [179.60732991, 170.70540443],\n",
       "       [182.42387438, 168.87523531],\n",
       "       [180.01939399, 170.28930678],\n",
       "       [152.93223235, 171.62432071],\n",
       "       [159.72355791, 177.66135815],\n",
       "       [163.58009482, 172.65197313],\n",
       "       [172.91568292, 161.65967074],\n",
       "       [180.91893921, 156.83885369],\n",
       "       [173.6063626 , 185.97575166],\n",
       "       [188.15531805, 164.87100828],\n",
       "       [165.91571948, 175.19645007],\n",
       "       [166.39542749, 160.81911434],\n",
       "       [176.26255164, 166.40666331],\n",
       "       [155.87607891, 171.85472616],\n",
       "       [170.92364391, 167.24879116],\n",
       "       [177.89813452, 166.78409631],\n",
       "       [171.61383928, 174.99853149],\n",
       "       [177.00562428, 158.73861595],\n",
       "       [157.02773017, 170.32808285],\n",
       "       [164.39932217, 174.57061641],\n",
       "       [169.43741529, 162.8308733 ],\n",
       "       [171.25472768, 168.97988221],\n",
       "       [173.98555719, 170.20500185],\n",
       "       [161.70905134, 167.6591473 ],\n",
       "       [171.13423064, 173.61315614],\n",
       "       [166.1212796 , 163.0705668 ],\n",
       "       [166.27067743, 166.94647756],\n",
       "       [171.63073167, 164.87849946],\n",
       "       [165.65018948, 174.56313583],\n",
       "       [176.26934147, 181.0888194 ],\n",
       "       [169.47976032, 172.25042807],\n",
       "       [169.33520932, 168.20699868],\n",
       "       [175.39386519, 173.0001028 ],\n",
       "       [176.72296593, 167.29185635],\n",
       "       [171.78752332, 166.46797189],\n",
       "       [178.92274514, 166.69728391],\n",
       "       [164.04866543, 175.81402242],\n",
       "       [165.27875811, 174.20591531],\n",
       "       [178.61075804, 171.1177032 ],\n",
       "       [172.27261891, 170.05386231],\n",
       "       [172.48870187, 166.94539667],\n",
       "       [161.51383468, 162.57602052],\n",
       "       [166.23505645, 164.18482066],\n",
       "       [166.54375531, 175.28964945],\n",
       "       [181.10342992, 160.08299136],\n",
       "       [166.10147194, 178.95835118],\n",
       "       [170.47372556, 173.24195106],\n",
       "       [170.0304759 , 168.10687865],\n",
       "       [164.12259775, 174.17121064],\n",
       "       [180.19109987, 156.7689142 ],\n",
       "       [176.28960065, 175.13218653],\n",
       "       [163.24700631, 165.37393564],\n",
       "       [163.24489125, 166.032251  ],\n",
       "       [164.56982918, 182.70639698],\n",
       "       [185.71717032, 164.52255849],\n",
       "       [181.54096058, 167.23818368],\n",
       "       [175.96162143, 178.00955559],\n",
       "       [162.1813188 , 164.62059085],\n",
       "       [172.88843593, 173.90391722],\n",
       "       [187.54387622, 176.86296721],\n",
       "       [172.70082732, 176.32690694],\n",
       "       [169.06365896, 156.3665448 ],\n",
       "       [177.66151728, 160.25185987],\n",
       "       [161.32980526, 172.8958883 ],\n",
       "       [170.36279318, 180.67049746],\n",
       "       [172.04058973, 165.00149526],\n",
       "       [161.03269747, 169.01893412],\n",
       "       [174.17889468, 157.87734533],\n",
       "       [172.32548019, 170.80189736],\n",
       "       [171.67674683, 172.08725242],\n",
       "       [161.84563465, 171.74624532],\n",
       "       [178.18036039, 150.48144141],\n",
       "       [166.42762509, 160.74036191],\n",
       "       [170.07604395, 165.92821498],\n",
       "       [164.83334669, 164.58269162],\n",
       "       [176.36210026, 170.45945647],\n",
       "       [161.18736539, 184.02760488],\n",
       "       [169.28091601, 165.76676479],\n",
       "       [162.82139276, 174.67060006],\n",
       "       [174.56744916, 169.00785802],\n",
       "       [157.83958422, 166.97371272],\n",
       "       [171.83604776, 166.74460884],\n",
       "       [181.13969746, 174.64850625],\n",
       "       [162.26016781, 175.49728338],\n",
       "       [165.79151245, 173.56950214],\n",
       "       [178.5069552 , 171.55563382],\n",
       "       [178.55406694, 160.54386375],\n",
       "       [182.42056362, 173.37122254],\n",
       "       [169.92072129, 159.53592354],\n",
       "       [163.94944214, 159.96937205],\n",
       "       [178.98512945, 169.06202433],\n",
       "       [178.41731766, 173.98485818],\n",
       "       [180.101988  , 174.15948304],\n",
       "       [157.56797515, 163.21415623],\n",
       "       [169.57805013, 171.09866842],\n",
       "       [180.30490346, 168.02155148],\n",
       "       [178.46232634, 170.45612089],\n",
       "       [168.07149581, 171.94877838],\n",
       "       [172.40157677, 162.36414418],\n",
       "       [179.63717189, 174.63798892],\n",
       "       [165.87389112, 183.23970777],\n",
       "       [172.07211402, 177.96505558],\n",
       "       [169.45761737, 165.13791683],\n",
       "       [180.43005725, 168.85281196],\n",
       "       [173.16420588, 181.09416327],\n",
       "       [182.36754077, 161.89849481],\n",
       "       [176.87902538, 164.8188822 ],\n",
       "       [170.5402409 , 160.58882782],\n",
       "       [170.12811963, 171.30754326],\n",
       "       [165.80541348, 148.94388112],\n",
       "       [164.792664  , 179.63720055],\n",
       "       [167.7227401 , 180.58432457],\n",
       "       [178.58529769, 171.83754452],\n",
       "       [165.63200229, 177.60459071],\n",
       "       [165.91533118, 170.61332117],\n",
       "       [151.7366729 , 163.83304225],\n",
       "       [178.25802768, 171.3645495 ],\n",
       "       [172.58498164, 180.28850489],\n",
       "       [160.64863167, 170.40398434],\n",
       "       [169.86191886, 175.98670441],\n",
       "       [161.35314342, 167.68256017],\n",
       "       [161.14815832, 170.52672109],\n",
       "       [171.4780621 , 174.65652113],\n",
       "       [177.65010814, 163.90761919],\n",
       "       [174.72712889, 167.42410478],\n",
       "       [178.91178265, 162.29627078],\n",
       "       [169.04765269, 180.19471301],\n",
       "       [169.90322658, 177.34400305],\n",
       "       [167.82158344, 183.30495666],\n",
       "       [165.11519487, 162.93219523],\n",
       "       [168.11740912, 163.23051291],\n",
       "       [162.67848964, 170.17440054],\n",
       "       [173.8504931 , 170.67509286],\n",
       "       [171.009917  , 172.55613299],\n",
       "       [159.08558452, 159.81704842],\n",
       "       [163.63499004, 177.51234418],\n",
       "       [165.22617566, 173.19322267],\n",
       "       [165.93557483, 178.47061132],\n",
       "       [181.6442059 , 169.19334527],\n",
       "       [164.50485867, 170.05572619],\n",
       "       [181.77137948, 169.9705951 ],\n",
       "       [182.87593863, 168.33322709],\n",
       "       [166.29658819, 185.66083195],\n",
       "       [163.89833884, 169.75309892],\n",
       "       [176.8452735 , 183.86815667],\n",
       "       [165.64260505, 171.44776298],\n",
       "       [169.55559268, 164.77731536],\n",
       "       [165.73159488, 156.80972152],\n",
       "       [172.29252388, 171.99847647],\n",
       "       [173.0411481 , 179.1496013 ],\n",
       "       [167.4868887 , 168.18568609],\n",
       "       [162.22302645, 172.75154209],\n",
       "       [169.62079832, 162.45047145],\n",
       "       [165.42720728, 155.41914528],\n",
       "       [167.8046668 , 160.90836122],\n",
       "       [170.65293303, 168.95375559],\n",
       "       [175.33021118, 171.70127923],\n",
       "       [168.71830642, 181.0453089 ],\n",
       "       [165.67243773, 175.05893757],\n",
       "       [184.47208333, 170.26221932],\n",
       "       [169.19161444, 174.05397108],\n",
       "       [166.02929228, 174.82371385],\n",
       "       [167.0656669 , 182.43692617],\n",
       "       [177.17907754, 176.73194465],\n",
       "       [175.53920002, 166.81884949],\n",
       "       [167.64695413, 173.68967952],\n",
       "       [176.54799002, 167.01504022],\n",
       "       [175.15912081, 165.30128683],\n",
       "       [175.54701331, 176.160945  ],\n",
       "       [166.40175385, 170.18360251],\n",
       "       [166.61270586, 165.72880643],\n",
       "       [171.64037202, 172.04686369],\n",
       "       [166.07761444, 165.03492587],\n",
       "       [170.47021101, 163.84049522],\n",
       "       [178.29054947, 175.74436761],\n",
       "       [181.83287672, 166.15174356],\n",
       "       [163.31439462, 173.22768002],\n",
       "       [175.72225266, 169.82738251],\n",
       "       [163.7197023 , 156.37694992],\n",
       "       [168.5111784 , 152.54983451],\n",
       "       [169.73487467, 171.19096832],\n",
       "       [181.28677377, 177.4300266 ],\n",
       "       [168.61400533, 166.77111301],\n",
       "       [167.71061665, 171.020158  ],\n",
       "       [171.23793839, 174.24615892],\n",
       "       [176.98564928, 177.95538023],\n",
       "       [173.09142204, 176.20551757],\n",
       "       [166.1560029 , 179.87211512],\n",
       "       [183.03873927, 182.13782925],\n",
       "       [175.00789298, 179.17767756],\n",
       "       [169.66825955, 170.74474941],\n",
       "       [172.42116968, 169.07826648],\n",
       "       [160.18160647, 175.74510849],\n",
       "       [173.97232901, 175.63539991],\n",
       "       [170.31788332, 176.13857597],\n",
       "       [173.51978739, 174.88475858],\n",
       "       [176.86625888, 180.93985813],\n",
       "       [182.57196726, 177.81600624],\n",
       "       [163.96553089, 166.27625746],\n",
       "       [172.53621534, 167.0479448 ],\n",
       "       [180.52080677, 166.57582722],\n",
       "       [158.52050265, 173.67373664],\n",
       "       [181.67624364, 174.13684801],\n",
       "       [170.48661799, 176.89434767],\n",
       "       [163.38818924, 152.57028583],\n",
       "       [162.53491946, 176.18493835],\n",
       "       [172.59384902, 180.16369842],\n",
       "       [175.15084466, 162.34002109],\n",
       "       [168.51935962, 166.92325411],\n",
       "       [170.11181795, 179.62413504],\n",
       "       [174.54711482, 174.43381657],\n",
       "       [165.21975497, 171.34521106],\n",
       "       [173.36639594, 181.02849349],\n",
       "       [166.45927951, 163.8322779 ],\n",
       "       [163.17920058, 157.61350012],\n",
       "       [175.55934312, 169.69680257],\n",
       "       [175.62304707, 168.23287701],\n",
       "       [173.47219946, 167.48931323],\n",
       "       [176.76648526, 176.98911176],\n",
       "       [156.237667  , 170.60267358],\n",
       "       [175.49907969, 162.07557909],\n",
       "       [174.44016463, 169.50238006],\n",
       "       [166.86152433, 174.16386659],\n",
       "       [162.61186696, 175.76162417],\n",
       "       [153.19610219, 170.62521547],\n",
       "       [166.76886691, 162.60523042],\n",
       "       [170.44175853, 168.0415181 ],\n",
       "       [165.67263307, 162.13651881],\n",
       "       [177.85236126, 175.91277468],\n",
       "       [170.05384529, 176.73354601],\n",
       "       [171.71106647, 160.5211911 ],\n",
       "       [172.35393046, 174.16657479],\n",
       "       [171.50715529, 175.30807373],\n",
       "       [173.08158405, 155.40840162],\n",
       "       [176.57621989, 173.9653919 ],\n",
       "       [177.78734878, 161.06925042],\n",
       "       [163.64132862, 179.85121376],\n",
       "       [173.57915174, 160.27592923],\n",
       "       [161.33808393, 171.93137986],\n",
       "       [165.45971359, 176.1277979 ],\n",
       "       [167.37938437, 168.77559524],\n",
       "       [173.63465043, 165.75122103],\n",
       "       [169.92792407, 167.01553596],\n",
       "       [151.5022388 , 159.20596322],\n",
       "       [172.7434107 , 173.82729433],\n",
       "       [176.26674112, 182.74215853],\n",
       "       [170.36029953, 166.01879808],\n",
       "       [183.14974763, 167.59946942],\n",
       "       [168.82263167, 168.48859038],\n",
       "       [178.0730801 , 173.24168437],\n",
       "       [173.689081  , 169.02033664],\n",
       "       [164.38980032, 162.83758758],\n",
       "       [168.38455083, 160.60100697],\n",
       "       [170.70731002, 172.95496342],\n",
       "       [179.91973276, 169.71603092],\n",
       "       [167.38637471, 180.6057268 ],\n",
       "       [179.01435462, 162.70233606],\n",
       "       [167.10343118, 175.12197164],\n",
       "       [177.26865712, 163.66099608],\n",
       "       [181.18190469, 160.82172251],\n",
       "       [165.92304485, 173.81585143],\n",
       "       [173.73531698, 171.54343679],\n",
       "       [176.31515041, 183.00029482]])"
      ]
     },
     "execution_count": 60,
     "metadata": {},
     "output_type": "execute_result"
    }
   ],
   "source": [
    "samples"
   ]
  },
  {
   "cell_type": "code",
   "execution_count": 61,
   "metadata": {},
   "outputs": [],
   "source": [
    "sample_means = np.mean(samples,axis=1)"
   ]
  },
  {
   "cell_type": "code",
   "execution_count": 62,
   "metadata": {},
   "outputs": [
    {
     "data": {
      "text/plain": [
       "array([165.78684547, 175.12398564, 172.91152022, 172.41455735,\n",
       "       164.20293506, 163.90511704, 179.01962343, 172.45406099,\n",
       "       170.71286982, 172.53672082, 167.58989881, 172.81373561,\n",
       "       173.62900907, 172.48285466, 160.59242739, 173.93977721,\n",
       "       166.16986542, 165.09932816, 174.54876462, 176.59335806,\n",
       "       164.7202565 , 180.92187148, 166.87756166, 163.65746358,\n",
       "       160.39481751, 173.32826336, 164.35485584, 172.60199597,\n",
       "       171.61272805, 165.74201756, 167.59586421, 165.93125298,\n",
       "       174.86224434, 170.83089869, 165.52408098, 162.30206577,\n",
       "       166.09928541, 174.90249059, 170.59445498, 171.97391136,\n",
       "       167.01862351, 178.2429843 , 177.65917053, 173.7197769 ,\n",
       "       174.42992238, 166.22793898, 162.82084938, 173.50553573,\n",
       "       173.80181775, 168.32201225, 167.11982526, 177.07482465,\n",
       "       170.98071349, 167.59588582, 176.73093688, 168.71803488,\n",
       "       176.41009332, 177.70992573, 178.19558177, 166.90676109,\n",
       "       176.8206708 , 167.09610687, 170.74709813, 161.01358486,\n",
       "       174.1290088 , 169.4776702 , 161.56940965, 175.40745109,\n",
       "       170.4145356 , 162.05414803, 169.03854949, 172.20182697,\n",
       "       166.28780953, 179.07966406, 171.08491557, 173.71599146,\n",
       "       168.61632329, 167.34744515, 171.85741145, 168.12736789,\n",
       "       177.84593791, 177.48048597, 176.66093094, 170.70408794,\n",
       "       165.35109107, 168.81994141, 174.32717847, 171.87690476,\n",
       "       178.5911733 , 172.3078418 , 177.78545882, 165.65007935,\n",
       "       167.85735604, 163.7129166 , 176.53443815, 160.92852842,\n",
       "       169.68463486, 163.06759054, 172.75372185, 164.00430734,\n",
       "       164.16938305, 176.77378583, 163.93831498, 174.6214886 ,\n",
       "       166.74982491, 170.43729177, 169.80666324, 173.69731838,\n",
       "       171.6343886 , 166.09236098, 169.96631174, 166.8302262 ,\n",
       "       162.6932833 , 163.16054342, 153.70388237, 165.79899139,\n",
       "       168.98222898, 170.98053393, 171.06421476, 182.77445527,\n",
       "       172.23560701, 166.77256233, 169.54886786, 170.33994385,\n",
       "       170.60958355, 166.03648244, 183.19150771, 172.14272988,\n",
       "       178.4921699 , 168.06614179, 162.86263582, 168.43272551,\n",
       "       171.78524701, 174.94694095, 165.59088977, 170.19009611,\n",
       "       168.98679719, 179.26255471, 167.61407988, 168.40538825,\n",
       "       176.40624884, 169.62112119, 167.74412102, 166.07162598,\n",
       "       169.76441408, 176.59711136, 174.10888594, 171.18626842,\n",
       "       171.82187833, 170.81148627, 171.77602155, 166.25828368,\n",
       "       160.64520857, 168.10074495, 169.35148912, 169.71518439,\n",
       "       177.90674145, 165.49370003, 165.98264005, 163.64128276,\n",
       "       173.28925788, 173.88428103, 172.6620071 , 174.9834717 ,\n",
       "       167.02601677, 172.77830307, 169.51417149, 167.03520791,\n",
       "       166.82784119, 167.15996744, 172.25800038, 167.74145347,\n",
       "       166.21780095, 174.47094993, 166.03452172, 171.42735392,\n",
       "       162.84398463, 165.57052066, 170.82995255, 169.92789088,\n",
       "       176.49758246, 173.13384506, 170.0989593 , 175.21187704,\n",
       "       162.98321252, 168.86394867, 166.49544569, 161.17184746,\n",
       "       165.08857541, 167.52070532, 169.16891012, 167.93059448,\n",
       "       166.51473904, 177.08610642, 173.13692024, 170.29086299,\n",
       "       164.55664983, 163.22701794, 173.22733065, 167.55112303,\n",
       "       174.87021401, 172.26815482, 163.80932652, 175.24158737,\n",
       "       166.79410055, 162.01841047, 177.21655893, 173.93617067,\n",
       "       171.27778868, 180.35356134, 173.29724987, 167.59079984,\n",
       "       160.82757011, 171.9209332 , 174.3600417 , 167.64741389,\n",
       "       161.76869641, 167.07686682, 178.43545723, 170.99779071,\n",
       "       168.31119507, 162.10287587, 173.23097975, 162.60170977,\n",
       "       175.23678457, 174.6648889 , 172.35060491, 170.63302844,\n",
       "       160.89625898, 169.20548754, 169.87522115, 167.79845698,\n",
       "       162.56187942, 170.30508505, 163.55879271, 169.86761192,\n",
       "       172.62895406, 175.15636717, 175.64955484, 175.15435039,\n",
       "       162.27827653, 168.69245803, 168.11603398, 167.28767683,\n",
       "       168.87889645, 179.79105713, 176.51316317, 170.55608477,\n",
       "       163.60727092, 171.33460747, 163.86540254, 169.08621753,\n",
       "       172.34111541, 173.30618538, 167.87212012, 163.67790651,\n",
       "       169.48496929, 166.13414429, 170.11730494, 172.09527952,\n",
       "       164.68409932, 172.37369339, 164.5959232 , 166.60857749,\n",
       "       168.25461556, 170.10666266, 178.67908044, 170.8650942 ,\n",
       "       168.771104  , 174.19698399, 172.00741114, 169.12774761,\n",
       "       172.81001453, 169.93134393, 169.74233671, 174.86423062,\n",
       "       171.16324061, 169.71704927, 162.0449276 , 165.20993856,\n",
       "       170.91670238, 170.59321064, 172.52991156, 171.85783831,\n",
       "       169.06867727, 169.1469042 , 168.48000704, 175.71089359,\n",
       "       164.31047098, 164.63857112, 173.63811308, 175.11986441,\n",
       "       174.38957213, 176.98558851, 163.40095482, 173.39617658,\n",
       "       182.20342172, 174.51386713, 162.71510188, 168.95668857,\n",
       "       167.11284678, 175.51664532, 168.5210425 , 165.02581579,\n",
       "       166.02812   , 171.56368878, 171.88199963, 166.79593998,\n",
       "       164.3309009 , 163.5839935 , 168.00212947, 164.70801915,\n",
       "       173.41077836, 172.60748514, 167.5238404 , 168.74599641,\n",
       "       171.78765359, 162.40664847, 169.2903283 , 177.89410186,\n",
       "       168.87872559, 169.68050729, 175.03129451, 169.54896534,\n",
       "       177.89589308, 164.72832242, 161.95940709, 174.02357689,\n",
       "       176.20108792, 177.13073552, 160.39106569, 170.33835927,\n",
       "       174.16322747, 174.45922361, 170.0101371 , 167.38286048,\n",
       "       177.1375804 , 174.55679944, 175.0185848 , 167.2977671 ,\n",
       "       174.6414346 , 177.12918458, 172.13301779, 170.84895379,\n",
       "       165.56453436, 170.71783144, 157.3746473 , 172.21493228,\n",
       "       174.15353233, 175.2114211 , 171.6182965 , 168.26432618,\n",
       "       157.78485757, 174.81128859, 176.43674327, 165.52630801,\n",
       "       172.92431163, 164.51785179, 165.8374397 , 173.06729162,\n",
       "       170.77886367, 171.07561683, 170.60402672, 174.62118285,\n",
       "       173.62361481, 175.56327005, 164.02369505, 165.67396101,\n",
       "       166.42644509, 172.26279298, 171.78302499, 159.45131647,\n",
       "       170.57366711, 169.20969917, 172.20309307, 175.41877559,\n",
       "       167.28029243, 175.87098729, 175.60458286, 175.97871007,\n",
       "       166.82571888, 180.35671508, 168.54518401, 167.16645402,\n",
       "       161.2706582 , 172.14550018, 176.0953747 , 167.8362874 ,\n",
       "       167.48728427, 166.03563488, 160.42317628, 164.35651401,\n",
       "       169.80334431, 173.5157452 , 174.88180766, 170.36568765,\n",
       "       177.36715132, 171.62279276, 170.42650307, 174.75129654,\n",
       "       176.9555111 , 171.17902475, 170.66831683, 171.78151512,\n",
       "       170.23020382, 175.85397915, 168.29267818, 166.17075614,\n",
       "       171.84361785, 165.55627015, 167.15535311, 177.01745854,\n",
       "       173.99231014, 168.27103732, 172.77481758, 160.04832611,\n",
       "       160.53050646, 170.4629215 , 179.35840019, 167.69255917,\n",
       "       169.36538732, 172.74204865, 177.47051476, 174.6484698 ,\n",
       "       173.01405901, 182.58828426, 177.09278527, 170.20650448,\n",
       "       170.74971808, 167.96335748, 174.80386446, 173.22822965,\n",
       "       174.20227299, 178.90305851, 180.19398675, 165.12089417,\n",
       "       169.79208007, 173.548317  , 166.09711964, 177.90654582,\n",
       "       173.69048283, 157.97923754, 169.3599289 , 176.37877372,\n",
       "       168.74543287, 167.72130686, 174.8679765 , 174.4904657 ,\n",
       "       168.28248302, 177.19744471, 165.1457787 , 160.39635035,\n",
       "       172.62807285, 171.92796204, 170.48075635, 176.87779851,\n",
       "       163.42017029, 168.78732939, 171.97127235, 170.51269546,\n",
       "       169.18674557, 161.91065883, 164.68704867, 169.24163831,\n",
       "       163.90457594, 176.88256797, 173.39369565, 166.11612879,\n",
       "       173.26025263, 173.40761451, 164.24499284, 175.2708059 ,\n",
       "       169.4282996 , 171.74627119, 166.92754049, 166.6347319 ,\n",
       "       170.79375575, 168.0774898 , 169.69293573, 168.47173001,\n",
       "       155.35410101, 173.28535252, 179.50444983, 168.18954881,\n",
       "       175.37460852, 168.65561103, 175.65738223, 171.35470882,\n",
       "       163.61369395, 164.4927789 , 171.83113672, 174.81788184,\n",
       "       173.99605076, 170.85834534, 171.11270141, 170.4648266 ,\n",
       "       171.0018136 , 169.86944814, 172.63937689, 179.65772261])"
      ]
     },
     "execution_count": 62,
     "metadata": {},
     "output_type": "execute_result"
    }
   ],
   "source": [
    "sample_means"
   ]
  },
  {
   "cell_type": "code",
   "execution_count": 63,
   "metadata": {},
   "outputs": [],
   "source": [
    "import seaborn as sns"
   ]
  },
  {
   "cell_type": "code",
   "execution_count": 64,
   "metadata": {},
   "outputs": [
    {
     "data": {
      "text/plain": [
       "Text(0, 0.5, 'Relative Frequency')"
      ]
     },
     "execution_count": 64,
     "metadata": {},
     "output_type": "execute_result"
    },
    {
     "data": {
      "image/png": "[encoded data removed]",
      "text/plain": [
       "<Figure size 432x288 with 1 Axes>"
      ]
     },
     "metadata": {
      "needs_background": "light"
     },
     "output_type": "display_data"
    }
   ],
   "source": [
    "sns.distplot(sample_means,bins=10,kde=False,fit=s.norm)\n",
    "\n",
    "plt.xlabel(\"Sample Mean of Sample Size=2\")\n",
    "\n",
    "plt.ylabel(\"Relative Frequency\")"
   ]
  },
  {
   "cell_type": "code",
   "execution_count": 65,
   "metadata": {},
   "outputs": [],
   "source": [
    "var_x_bar_star = np.var(sample_means)"
   ]
  },
  {
   "cell_type": "code",
   "execution_count": 66,
   "metadata": {},
   "outputs": [
    {
     "data": {
      "text/plain": [
       "24.20860110445655"
      ]
     },
     "execution_count": 66,
     "metadata": {},
     "output_type": "execute_result"
    }
   ],
   "source": [
    "var_x_bar_star"
   ]
  },
  {
   "cell_type": "code",
   "execution_count": 67,
   "metadata": {},
   "outputs": [],
   "source": [
    "sd_mean = np.mean(sample_means)"
   ]
  },
  {
   "cell_type": "code",
   "execution_count": 68,
   "metadata": {},
   "outputs": [
    {
     "data": {
      "text/plain": [
       "170.2161493292645"
      ]
     },
     "execution_count": 68,
     "metadata": {},
     "output_type": "execute_result"
    }
   ],
   "source": [
    "sd_mean"
   ]
  },
  {
   "cell_type": "code",
   "execution_count": 69,
   "metadata": {},
   "outputs": [],
   "source": [
    "N = 5\n",
    "\n",
    "samples = np.random.normal(loc=170,scale=7,size=(500,N))"
   ]
  },
  {
   "cell_type": "code",
   "execution_count": 70,
   "metadata": {},
   "outputs": [
    {
     "data": {
      "text/plain": [
       "array([[170.07812058, 172.25861599, 182.37270322, 185.609507  ,\n",
       "        168.31353242],\n",
       "       [176.02101178, 173.22654797, 185.55653985, 183.41753326,\n",
       "        157.02651064],\n",
       "       [162.09712547, 179.6713098 , 161.8018693 , 165.60282536,\n",
       "        167.23752825],\n",
       "       ...,\n",
       "       [166.83108594, 165.19997409, 163.32787525, 164.28842913,\n",
       "        159.78430412],\n",
       "       [171.31405574, 159.03037094, 166.62232991, 174.36794572,\n",
       "        176.92505156],\n",
       "       [177.5049382 , 179.44587924, 160.4090859 , 165.00216388,\n",
       "        163.57019863]])"
      ]
     },
     "execution_count": 70,
     "metadata": {},
     "output_type": "execute_result"
    }
   ],
   "source": [
    "samples"
   ]
  },
  {
   "cell_type": "code",
   "execution_count": 71,
   "metadata": {},
   "outputs": [],
   "source": [
    "sample_means = np.mean(samples,axis=1)"
   ]
  },
  {
   "cell_type": "code",
   "execution_count": 72,
   "metadata": {},
   "outputs": [
    {
     "data": {
      "text/plain": [
       "array([175.72649584, 175.0496287 , 167.28213164, 170.45183054,\n",
       "       169.94940063, 167.5184176 , 167.63569325, 168.513866  ,\n",
       "       168.71663696, 166.173228  , 168.26884159, 168.2275219 ,\n",
       "       176.42761508, 173.3481792 , 169.72012651, 172.83371483,\n",
       "       173.16826053, 165.80229493, 168.61043143, 168.05953946,\n",
       "       173.74764634, 169.75535062, 168.55020357, 168.52093643,\n",
       "       164.86792931, 171.02611362, 173.29537823, 172.876817  ,\n",
       "       169.41644078, 169.68440258, 169.73343843, 174.61585254,\n",
       "       172.43780692, 168.5146075 , 168.79779149, 171.05868813,\n",
       "       166.91284895, 164.51757122, 174.55307986, 166.09236413,\n",
       "       168.07866073, 172.60565345, 170.73308108, 170.43390643,\n",
       "       174.18524217, 173.06856482, 173.93375159, 167.8386937 ,\n",
       "       165.71035003, 167.92160635, 167.44278734, 171.60825196,\n",
       "       172.2526825 , 172.90653675, 169.62063362, 172.51972336,\n",
       "       167.22277636, 168.73193464, 168.59285263, 166.98929359,\n",
       "       169.91615052, 172.70412279, 172.98737734, 174.63880363,\n",
       "       168.07818578, 175.54314297, 168.7897881 , 170.55177859,\n",
       "       169.69761928, 170.18110114, 170.2533254 , 169.24877859,\n",
       "       168.52629994, 169.06934525, 171.12715453, 173.02013446,\n",
       "       172.6184031 , 171.40021002, 167.61555957, 176.11579583,\n",
       "       172.76919617, 165.77092972, 167.07650732, 170.07143068,\n",
       "       166.33360082, 170.14249295, 157.98421929, 171.75721235,\n",
       "       164.71271314, 166.92878469, 169.35493616, 172.25521744,\n",
       "       175.22038777, 173.28050735, 171.28184187, 167.87596278,\n",
       "       166.55704715, 170.0975005 , 174.55118884, 166.57235746,\n",
       "       168.58473895, 169.74263224, 172.43541707, 170.29265788,\n",
       "       167.81914798, 168.32481482, 173.7181388 , 170.50406718,\n",
       "       169.34617957, 171.09376721, 170.1874225 , 173.04652845,\n",
       "       169.37549676, 168.170562  , 169.06339877, 168.73254036,\n",
       "       169.01881262, 170.61187515, 175.9230927 , 168.29675729,\n",
       "       169.31671177, 173.90043731, 171.67400488, 166.42575347,\n",
       "       168.97058947, 167.97718549, 167.3531785 , 170.18405925,\n",
       "       169.14775582, 171.86170914, 174.08448277, 172.71487228,\n",
       "       168.87307544, 171.91942851, 171.81510988, 167.49194417,\n",
       "       176.97815415, 169.35830566, 168.85476439, 164.39400507,\n",
       "       169.82362762, 171.09566736, 168.70527344, 171.70274962,\n",
       "       174.07716263, 168.37078376, 166.83465114, 164.86808912,\n",
       "       163.055571  , 165.3161588 , 167.13113484, 174.06431615,\n",
       "       165.669795  , 171.79770477, 173.76805294, 170.35778166,\n",
       "       171.16622541, 168.07779151, 170.23748256, 171.71500083,\n",
       "       171.77094245, 172.58877533, 169.23356993, 168.8693247 ,\n",
       "       168.92868504, 174.25258707, 175.38126018, 173.12069042,\n",
       "       176.30571422, 170.89885892, 171.22990998, 170.37857523,\n",
       "       174.44597689, 172.00365499, 174.71552752, 166.6170451 ,\n",
       "       170.22171295, 171.68888757, 168.47411393, 166.74419189,\n",
       "       168.2928779 , 165.21526748, 168.00741108, 168.11257229,\n",
       "       174.04614159, 167.8328832 , 172.23105091, 169.20090841,\n",
       "       166.69792431, 172.15871151, 164.98304897, 171.9592765 ,\n",
       "       171.08200573, 166.01166896, 170.79935287, 170.25170889,\n",
       "       170.56384338, 173.77815354, 171.95249747, 169.79298915,\n",
       "       169.35462767, 165.8061343 , 164.25159815, 170.84595688,\n",
       "       172.64436268, 169.42718952, 170.40422524, 168.90361271,\n",
       "       167.91122987, 174.41543732, 165.92735666, 166.8814498 ,\n",
       "       168.36420427, 171.76400927, 172.84513618, 173.81909526,\n",
       "       172.48548544, 167.12546698, 170.54868815, 171.36225172,\n",
       "       173.71399863, 167.08406142, 176.27188595, 171.48251529,\n",
       "       167.42916631, 165.61293643, 166.20286889, 165.92182663,\n",
       "       174.05111878, 169.64459299, 166.0433377 , 164.00678783,\n",
       "       170.31169367, 165.7465211 , 167.61821141, 166.58248449,\n",
       "       166.19584489, 174.01541728, 165.61358841, 167.93674033,\n",
       "       169.84166979, 172.53311324, 169.7169162 , 167.94475736,\n",
       "       170.80258833, 170.43496446, 177.20748154, 167.0932683 ,\n",
       "       168.08082286, 166.61125575, 172.39823622, 174.52952096,\n",
       "       178.08975041, 170.47054581, 169.40126619, 169.44094787,\n",
       "       170.1177569 , 176.00328822, 169.61070113, 167.28417409,\n",
       "       170.27386467, 173.43635464, 171.12924978, 169.045425  ,\n",
       "       175.6208934 , 163.2540298 , 177.74752356, 166.97577848,\n",
       "       172.01780511, 168.95205799, 163.94443738, 168.77738066,\n",
       "       166.00538859, 174.08914087, 167.55740797, 166.64549868,\n",
       "       168.71144847, 170.03154549, 164.26985342, 168.33739927,\n",
       "       169.1568697 , 167.28334897, 169.72459821, 167.78487112,\n",
       "       169.0034081 , 166.76019416, 178.49251262, 164.98373201,\n",
       "       173.01745394, 165.65990374, 167.98183823, 171.46741237,\n",
       "       167.52577588, 169.80429035, 168.13202776, 173.32381591,\n",
       "       168.03736717, 171.96947796, 172.05989723, 170.44444702,\n",
       "       166.50049932, 172.28140603, 169.27290951, 171.61970535,\n",
       "       172.67753453, 164.79804379, 170.32425442, 169.76442747,\n",
       "       165.70970924, 165.24828308, 171.12027058, 167.47189615,\n",
       "       179.11290142, 171.88258537, 164.90463373, 166.76460525,\n",
       "       167.75225092, 172.63115544, 167.35733914, 172.54795298,\n",
       "       170.81767134, 171.6470411 , 170.17848759, 167.49940937,\n",
       "       165.87054339, 164.09394166, 167.50518266, 170.728008  ,\n",
       "       170.1326259 , 171.43999423, 171.74577853, 170.44379021,\n",
       "       172.57731944, 170.40154381, 165.59614075, 172.07250883,\n",
       "       173.88467749, 169.68274613, 167.21641809, 166.0287529 ,\n",
       "       163.82606827, 171.65262741, 168.56660446, 173.11013784,\n",
       "       169.28248717, 171.66129716, 166.91071747, 165.75788545,\n",
       "       172.59398277, 168.48726588, 168.39712256, 171.14516079,\n",
       "       169.96325883, 169.48080587, 171.41825315, 170.5457985 ,\n",
       "       165.47209933, 167.73168278, 171.44647012, 170.33107171,\n",
       "       169.3581001 , 170.38051516, 175.39511255, 166.61915773,\n",
       "       174.20933139, 174.04165976, 172.96956936, 169.44887753,\n",
       "       166.93895834, 167.37607062, 168.52704664, 171.98382941,\n",
       "       171.76929885, 167.54935337, 167.49054904, 172.46217799,\n",
       "       172.1741903 , 170.05871719, 175.43203165, 170.95667008,\n",
       "       173.24972142, 174.16977686, 169.9254714 , 167.68017391,\n",
       "       175.11072013, 174.85339673, 175.42309452, 169.23558436,\n",
       "       170.20433881, 164.89822751, 172.62650847, 172.63214806,\n",
       "       168.54574287, 170.96032653, 169.02970904, 168.25953485,\n",
       "       169.76197529, 171.25942314, 165.20453874, 172.82031381,\n",
       "       169.95066759, 171.46435337, 167.05582006, 168.08700649,\n",
       "       170.00699355, 168.39127139, 170.33014962, 170.89393443,\n",
       "       166.41669992, 165.04894509, 170.52878641, 169.7741069 ,\n",
       "       163.7484594 , 171.93238203, 169.21285253, 173.25053244,\n",
       "       164.34590788, 167.14040662, 171.15185761, 166.96812065,\n",
       "       171.05407569, 167.62217995, 174.56240418, 168.58460254,\n",
       "       167.41498817, 170.46668144, 170.91852291, 174.27810081,\n",
       "       173.96620407, 169.92242695, 172.39506345, 172.16687389,\n",
       "       170.27114909, 165.15177413, 170.2737703 , 166.29283613,\n",
       "       175.33079152, 170.42514528, 170.09685941, 165.09581079,\n",
       "       173.56335539, 164.17348246, 167.82011306, 168.71146738,\n",
       "       173.4821564 , 170.94712414, 174.11405439, 169.12936187,\n",
       "       168.00072485, 172.9584997 , 169.22255627, 169.46461838,\n",
       "       172.29594539, 164.12396785, 164.4862274 , 171.16063697,\n",
       "       173.29375074, 175.10031202, 171.27277558, 169.90153868,\n",
       "       169.88534307, 171.82801346, 170.73662582, 169.86387365,\n",
       "       169.86821703, 168.69184884, 165.16529218, 173.50939375,\n",
       "       174.33458387, 171.46501257, 167.70349368, 172.4990267 ,\n",
       "       171.41462637, 173.78406249, 169.34037841, 168.96783671,\n",
       "       174.42321378, 171.9696807 , 170.02492833, 174.21908016,\n",
       "       171.09834868, 168.25797969, 164.94852698, 173.34991833,\n",
       "       168.07311359, 168.00794057, 171.63871985, 169.45069282,\n",
       "       167.53208964, 166.85175634, 171.59463796, 170.85680242,\n",
       "       166.87408241, 167.74197597, 170.04421709, 168.0269554 ,\n",
       "       166.77563403, 163.88633371, 169.65195077, 169.18645317])"
      ]
     },
     "execution_count": 72,
     "metadata": {},
     "output_type": "execute_result"
    }
   ],
   "source": [
    "sample_means"
   ]
  },
  {
   "cell_type": "code",
   "execution_count": 73,
   "metadata": {},
   "outputs": [
    {
     "data": {
      "text/plain": [
       "Text(0, 0.5, 'Relative Frequency')"
      ]
     },
     "execution_count": 73,
     "metadata": {},
     "output_type": "execute_result"
    },
    {
     "data": {
      "image/png": "[encoded data removed]",
      "text/plain": [
       "<Figure size 432x288 with 1 Axes>"
      ]
     },
     "metadata": {
      "needs_background": "light"
     },
     "output_type": "display_data"
    }
   ],
   "source": [
    "sns.distplot(sample_means,bins=10,kde=False,fit=s.norm)\n",
    "\n",
    "plt.xlabel(\"Sample Mean of Sample Size=5\")\n",
    "\n",
    "plt.ylabel(\"Relative Frequency\")"
   ]
  },
  {
   "cell_type": "code",
   "execution_count": 75,
   "metadata": {},
   "outputs": [],
   "source": [
    "var_x_bar_star = np.var(sample_means)"
   ]
  },
  {
   "cell_type": "code",
   "execution_count": 76,
   "metadata": {},
   "outputs": [
    {
     "data": {
      "text/plain": [
       "9.139648133248041"
      ]
     },
     "execution_count": 76,
     "metadata": {},
     "output_type": "execute_result"
    }
   ],
   "source": [
    "var_x_bar_star"
   ]
  },
  {
   "cell_type": "code",
   "execution_count": 77,
   "metadata": {},
   "outputs": [],
   "source": [
    "sd_mean = np.mean(sample_means)"
   ]
  },
  {
   "cell_type": "code",
   "execution_count": 78,
   "metadata": {},
   "outputs": [
    {
     "data": {
      "text/plain": [
       "169.9244930191018"
      ]
     },
     "execution_count": 78,
     "metadata": {},
     "output_type": "execute_result"
    }
   ],
   "source": [
    "sd_mean"
   ]
  },
  {
   "cell_type": "code",
   "execution_count": 80,
   "metadata": {},
   "outputs": [],
   "source": [
    "N = 40\n",
    "\n",
    "samples = np.random.normal(loc=170,scale=7,size=(500,N))"
   ]
  },
  {
   "cell_type": "code",
   "execution_count": 81,
   "metadata": {},
   "outputs": [
    {
     "data": {
      "text/plain": [
       "array([[178.33255875, 160.73519665, 158.87442819, ..., 177.6107418 ,\n",
       "        166.09449699, 182.98625233],\n",
       "       [159.34730435, 161.3285137 , 173.94045005, ..., 183.81142591,\n",
       "        173.94111129, 171.0465134 ],\n",
       "       [165.9843115 , 173.16729162, 174.27966072, ..., 184.31895156,\n",
       "        181.00533335, 170.63070381],\n",
       "       ...,\n",
       "       [164.84483614, 180.38030886, 165.15866441, ..., 165.50107993,\n",
       "        161.14716292, 176.8607226 ],\n",
       "       [176.98297418, 169.9737064 , 169.17504662, ..., 180.7720519 ,\n",
       "        175.61997915, 173.51645986],\n",
       "       [175.50203253, 164.57419654, 171.44003657, ..., 184.89152478,\n",
       "        181.23186327, 171.71139433]])"
      ]
     },
     "execution_count": 81,
     "metadata": {},
     "output_type": "execute_result"
    }
   ],
   "source": [
    "samples"
   ]
  },
  {
   "cell_type": "code",
   "execution_count": 82,
   "metadata": {},
   "outputs": [],
   "source": [
    "sample_means = np.mean(samples,axis=1)"
   ]
  },
  {
   "cell_type": "code",
   "execution_count": 83,
   "metadata": {},
   "outputs": [
    {
     "data": {
      "text/plain": [
       "array([169.10992803, 169.71595995, 170.00810523, 169.01177719,\n",
       "       169.95157729, 169.54503962, 169.59079127, 169.5054588 ,\n",
       "       169.38480484, 171.2722366 , 170.41766141, 168.89701266,\n",
       "       169.70285445, 170.31040718, 171.08851138, 170.89253778,\n",
       "       171.49492592, 168.67810124, 170.51079219, 171.45140819,\n",
       "       170.1698961 , 169.86001338, 170.79041813, 172.32829592,\n",
       "       171.72214933, 170.91263029, 168.980735  , 169.41145131,\n",
       "       170.81407908, 171.11929185, 171.58746297, 169.52365118,\n",
       "       171.10299507, 169.54136   , 170.45467689, 169.78207358,\n",
       "       169.28933138, 170.51695981, 171.36268035, 169.7320557 ,\n",
       "       170.62016283, 169.19162097, 171.62149487, 170.60638044,\n",
       "       171.35934931, 169.40319696, 171.84317142, 167.68676184,\n",
       "       171.40789479, 170.78002699, 168.60129093, 169.41298599,\n",
       "       171.57296106, 169.45745318, 169.52836905, 169.3207629 ,\n",
       "       169.06265545, 170.21933168, 168.33272002, 170.87716302,\n",
       "       170.36461296, 171.11549102, 167.87785919, 169.45407254,\n",
       "       171.86761293, 168.84048756, 170.59835006, 167.42871766,\n",
       "       169.52281484, 170.018078  , 171.43051729, 169.05667253,\n",
       "       169.66988146, 170.80170227, 168.06301907, 170.03934853,\n",
       "       172.31871167, 170.14250288, 170.27903032, 169.58206211,\n",
       "       169.17646927, 169.8763488 , 171.06007965, 169.80352987,\n",
       "       170.5265145 , 168.02260519, 168.86780386, 170.32993023,\n",
       "       170.14225371, 169.46277247, 168.71153433, 171.40661215,\n",
       "       169.92703195, 168.66573673, 170.29393205, 170.71014137,\n",
       "       169.03822215, 168.86319635, 170.66492458, 169.47721888,\n",
       "       167.19572685, 170.73037159, 172.01356208, 171.52374221,\n",
       "       169.1890426 , 169.44202608, 170.78947358, 170.03112738,\n",
       "       170.37188158, 170.56965592, 171.29236324, 169.61418832,\n",
       "       171.16585931, 170.97532135, 168.34599998, 169.4697972 ,\n",
       "       168.60769079, 169.87458296, 166.98742392, 170.67115205,\n",
       "       171.72791991, 167.61779207, 168.21434168, 168.60955028,\n",
       "       170.69925269, 170.40075563, 168.03130254, 168.40774783,\n",
       "       171.25469068, 171.19710449, 169.7580248 , 169.14400047,\n",
       "       170.90666509, 170.88623272, 169.10584025, 170.62919452,\n",
       "       169.41651395, 171.09008065, 171.35287231, 169.11908531,\n",
       "       171.08299588, 169.02540959, 170.88333485, 168.63758877,\n",
       "       170.21263795, 169.39922933, 169.22944797, 170.85307389,\n",
       "       170.06382256, 169.99551743, 168.4474056 , 168.21025046,\n",
       "       170.92828862, 171.6379593 , 170.16499148, 170.73899412,\n",
       "       172.08133317, 170.53266763, 169.70651518, 167.53124514,\n",
       "       171.21743401, 168.47904142, 170.06578634, 170.95560508,\n",
       "       173.11108899, 171.48619377, 166.6299302 , 170.30122213,\n",
       "       169.89195631, 170.8110925 , 168.97245746, 170.79813445,\n",
       "       169.63016082, 168.90093255, 169.4868454 , 169.38125214,\n",
       "       169.42781127, 169.68623089, 170.32912937, 171.24170977,\n",
       "       172.62284256, 169.54131957, 168.72958081, 169.56978908,\n",
       "       169.1551753 , 173.34468167, 171.86789877, 170.47557867,\n",
       "       168.68189953, 170.96175072, 168.79961896, 169.27177902,\n",
       "       168.64834318, 169.42019664, 169.44249566, 170.97861001,\n",
       "       169.94315276, 169.28005577, 169.4281076 , 170.92266754,\n",
       "       169.26848873, 171.32257965, 172.28743449, 170.65466817,\n",
       "       172.78728931, 169.9459307 , 169.35489443, 171.96450269,\n",
       "       171.11209283, 168.27851203, 169.6676498 , 167.55827688,\n",
       "       167.18894581, 170.00602112, 170.71400805, 169.41259806,\n",
       "       167.77622758, 169.26704444, 169.8015088 , 171.54005712,\n",
       "       169.3722222 , 170.31534805, 169.13758276, 169.10125656,\n",
       "       168.34004267, 170.87483195, 170.38762983, 170.35266776,\n",
       "       168.45602761, 170.13125038, 168.93846674, 168.9002441 ,\n",
       "       170.42481044, 167.39456102, 170.16348948, 170.13420681,\n",
       "       167.92814907, 168.29260244, 170.84794091, 172.04099829,\n",
       "       170.6258094 , 169.16711954, 170.72103628, 170.46498681,\n",
       "       172.40368277, 169.30672891, 169.63530895, 170.42736591,\n",
       "       170.22134827, 171.64912752, 170.91721817, 168.61076949,\n",
       "       171.66944599, 171.00966555, 170.4385925 , 170.26998524,\n",
       "       171.9781792 , 170.50838307, 170.18644029, 170.72935109,\n",
       "       169.8259248 , 168.66618662, 169.85938949, 170.45804674,\n",
       "       170.61686749, 170.33263301, 171.08337344, 169.34174418,\n",
       "       170.8320898 , 169.71771674, 171.4639797 , 169.13772793,\n",
       "       169.24395849, 167.43017889, 168.84554803, 170.0282145 ,\n",
       "       169.01651302, 167.77494546, 167.18670238, 172.35591981,\n",
       "       171.46859112, 170.13623812, 168.71043752, 170.9897072 ,\n",
       "       169.86434043, 171.44130686, 169.49499969, 169.44284584,\n",
       "       170.33427948, 170.02266564, 170.49433204, 170.29133674,\n",
       "       170.48598049, 169.12113128, 170.20471879, 169.65947106,\n",
       "       169.85166483, 169.41628505, 169.74028036, 169.29125082,\n",
       "       169.66325687, 169.40614343, 168.9619561 , 173.19184738,\n",
       "       170.63050941, 170.6707619 , 169.58535367, 169.70942654,\n",
       "       171.60455473, 171.7645486 , 169.05933354, 169.68767933,\n",
       "       169.27505275, 172.26275228, 170.10583854, 170.16896695,\n",
       "       170.8574358 , 170.77989405, 168.10254875, 169.86233631,\n",
       "       170.00933185, 169.47281746, 168.88279192, 168.74247798,\n",
       "       171.42298006, 171.69501198, 170.48183815, 168.77622725,\n",
       "       170.87316982, 168.95941408, 170.41359009, 168.06584935,\n",
       "       169.65729111, 172.6848613 , 170.40210987, 168.4583254 ,\n",
       "       170.03222531, 170.49886666, 170.67624749, 172.58699276,\n",
       "       170.19440647, 168.75328986, 170.12598805, 171.56560808,\n",
       "       170.69135317, 170.23754574, 169.75365227, 170.91219319,\n",
       "       169.5082157 , 171.5697538 , 168.19770734, 171.00095004,\n",
       "       167.94253933, 171.66774311, 170.49204215, 168.56442002,\n",
       "       170.06700763, 170.67397379, 169.92661841, 168.90733608,\n",
       "       168.04455142, 168.21485733, 170.10688584, 169.51863803,\n",
       "       168.64720988, 169.20858283, 170.60457781, 170.04055503,\n",
       "       170.83975158, 172.01560102, 169.59065974, 170.09877736,\n",
       "       169.14220127, 170.51094505, 171.99043278, 171.26199833,\n",
       "       170.3491201 , 170.6275095 , 170.27644818, 170.05270123,\n",
       "       170.33029307, 170.86716641, 170.95994288, 169.71865846,\n",
       "       170.01191873, 170.59030971, 171.66120098, 170.57325505,\n",
       "       169.62714922, 169.55893457, 170.80091954, 168.67420743,\n",
       "       168.62246302, 169.95885842, 170.1969805 , 168.90493442,\n",
       "       168.83259599, 170.60444007, 169.49686338, 171.10156863,\n",
       "       171.77506171, 169.4256305 , 171.12310145, 169.32179408,\n",
       "       171.31069063, 168.34755719, 170.43141595, 169.89867231,\n",
       "       171.43044752, 168.19531375, 170.46160128, 169.90248274,\n",
       "       169.82153303, 167.27695325, 170.08515586, 169.13738968,\n",
       "       170.20791243, 168.71195819, 168.16129652, 170.09582427,\n",
       "       170.59513384, 170.31026109, 170.7288782 , 169.08186926,\n",
       "       170.9923112 , 169.76711958, 169.11438238, 171.44840195,\n",
       "       168.52782569, 169.33128884, 170.42080232, 168.89449596,\n",
       "       170.4467894 , 169.68137931, 170.136231  , 170.3393402 ,\n",
       "       168.46455938, 169.15693027, 170.06454569, 171.60318896,\n",
       "       169.40824909, 169.89945863, 169.65116802, 169.69973601,\n",
       "       169.45590266, 171.0330868 , 168.94430223, 169.10791893,\n",
       "       171.65555443, 170.02371512, 173.96962022, 170.52488269,\n",
       "       171.99705708, 167.72308021, 170.99489502, 170.21325885,\n",
       "       169.72607141, 171.62980475, 170.20556202, 171.86519715,\n",
       "       170.56347609, 171.55744268, 169.79506548, 168.90535908,\n",
       "       169.89247597, 170.53187359, 168.17905194, 169.21079234,\n",
       "       169.05748042, 171.29802881, 170.28830868, 170.97585419,\n",
       "       171.22024593, 169.79997085, 168.84422457, 170.01371663,\n",
       "       171.58863654, 170.15090584, 168.50098759, 170.36412215,\n",
       "       170.21952908, 170.17668781, 171.14919223, 170.39472533,\n",
       "       169.82832425, 169.92205127, 169.77191365, 170.66802938,\n",
       "       169.80791409, 169.98085424, 168.25089231, 171.02031145,\n",
       "       169.57094405, 170.95144823, 170.86831058, 170.1261169 ,\n",
       "       171.20931255, 170.44057428, 173.30866887, 171.39656622])"
      ]
     },
     "execution_count": 83,
     "metadata": {},
     "output_type": "execute_result"
    }
   ],
   "source": [
    "sample_means"
   ]
  },
  {
   "cell_type": "code",
   "execution_count": 85,
   "metadata": {},
   "outputs": [
    {
     "data": {
      "text/plain": [
       "Text(0, 0.5, 'Relative Frequency')"
      ]
     },
     "execution_count": 85,
     "metadata": {},
     "output_type": "execute_result"
    },
    {
     "data": {
      "image/png": "[encoded data removed]",
      "text/plain": [
       "<Figure size 432x288 with 1 Axes>"
      ]
     },
     "metadata": {
      "needs_background": "light"
     },
     "output_type": "display_data"
    }
   ],
   "source": [
    "sns.distplot(sample_means,bins=10,kde=False,fit=s.norm)\n",
    "\n",
    "plt.xlabel(\"Sample Mean of Sample Size=40\")\n",
    "\n",
    "plt.ylabel(\"Relative Frequency\")"
   ]
  },
  {
   "cell_type": "code",
   "execution_count": 86,
   "metadata": {},
   "outputs": [],
   "source": [
    "var_x_bar_star = np.var(sample_means)"
   ]
  },
  {
   "cell_type": "code",
   "execution_count": 87,
   "metadata": {},
   "outputs": [
    {
     "data": {
      "text/plain": [
       "1.332404198152283"
      ]
     },
     "execution_count": 87,
     "metadata": {},
     "output_type": "execute_result"
    }
   ],
   "source": [
    "var_x_bar_star"
   ]
  },
  {
   "cell_type": "code",
   "execution_count": 88,
   "metadata": {},
   "outputs": [],
   "source": [
    "sd_mean = np.mean(sample_means)"
   ]
  },
  {
   "cell_type": "code",
   "execution_count": 89,
   "metadata": {},
   "outputs": [
    {
     "data": {
      "text/plain": [
       "170.0411553368547"
      ]
     },
     "execution_count": 89,
     "metadata": {},
     "output_type": "execute_result"
    }
   ],
   "source": [
    "sd_mean"
   ]
  },
  {
   "cell_type": "markdown",
   "metadata": {},
   "source": [
    "# Till now, we have proved that for Normal Distribution, the MVUE of population mean of normal distribution is Sample Mean and hence for Sample Mean, CLT is holding True. "
   ]
  },
  {
   "cell_type": "markdown",
   "metadata": {},
   "source": [
    "# But now, we are going to try our hands on some other Probability Distributions, where again sample mean is MVUE"
   ]
  },
  {
   "cell_type": "markdown",
   "metadata": {},
   "source": [
    "# The two prominent examples of such kind of distributions are Binomial and Poisson Distribution"
   ]
  },
  {
   "cell_type": "markdown",
   "metadata": {},
   "source": [
    "# Let's take an example of Binomial Distribution first"
   ]
  },
  {
   "cell_type": "code",
   "execution_count": 104,
   "metadata": {},
   "outputs": [],
   "source": [
    "N = 2\n",
    "\n",
    "binomial_samples = np.random.binomial(n=1,p=0.81,size=(500,N))"
   ]
  },
  {
   "cell_type": "code",
   "execution_count": 105,
   "metadata": {},
   "outputs": [
    {
     "data": {
      "text/plain": [
       "array([[1, 1],\n",
       "       [1, 1],\n",
       "       [1, 1],\n",
       "       [0, 0],\n",
       "       [0, 1],\n",
       "       [1, 1],\n",
       "       [1, 1],\n",
       "       [1, 1],\n",
       "       [1, 0],\n",
       "       [1, 1],\n",
       "       [0, 1],\n",
       "       [1, 1],\n",
       "       [1, 0],\n",
       "       [1, 1],\n",
       "       [1, 1],\n",
       "       [1, 1],\n",
       "       [1, 1],\n",
       "       [0, 1],\n",
       "       [1, 1],\n",
       "       [1, 1],\n",
       "       [1, 1],\n",
       "       [1, 0],\n",
       "       [1, 1],\n",
       "       [1, 1],\n",
       "       [1, 1],\n",
       "       [1, 0],\n",
       "       [0, 1],\n",
       "       [1, 1],\n",
       "       [1, 1],\n",
       "       [1, 1],\n",
       "       [1, 1],\n",
       "       [1, 1],\n",
       "       [1, 1],\n",
       "       [0, 1],\n",
       "       [1, 1],\n",
       "       [1, 1],\n",
       "       [1, 0],\n",
       "       [1, 1],\n",
       "       [0, 1],\n",
       "       [1, 1],\n",
       "       [1, 1],\n",
       "       [1, 1],\n",
       "       [1, 1],\n",
       "       [1, 1],\n",
       "       [1, 1],\n",
       "       [1, 1],\n",
       "       [1, 1],\n",
       "       [1, 1],\n",
       "       [0, 1],\n",
       "       [1, 1],\n",
       "       [1, 1],\n",
       "       [1, 1],\n",
       "       [1, 1],\n",
       "       [0, 1],\n",
       "       [1, 1],\n",
       "       [1, 1],\n",
       "       [1, 0],\n",
       "       [1, 1],\n",
       "       [1, 1],\n",
       "       [0, 1],\n",
       "       [1, 1],\n",
       "       [1, 1],\n",
       "       [1, 1],\n",
       "       [1, 0],\n",
       "       [0, 1],\n",
       "       [1, 0],\n",
       "       [1, 1],\n",
       "       [1, 1],\n",
       "       [0, 0],\n",
       "       [1, 1],\n",
       "       [1, 1],\n",
       "       [1, 1],\n",
       "       [1, 0],\n",
       "       [1, 1],\n",
       "       [1, 1],\n",
       "       [1, 0],\n",
       "       [1, 1],\n",
       "       [0, 1],\n",
       "       [1, 1],\n",
       "       [1, 0],\n",
       "       [1, 1],\n",
       "       [1, 1],\n",
       "       [1, 0],\n",
       "       [1, 1],\n",
       "       [1, 1],\n",
       "       [1, 1],\n",
       "       [0, 0],\n",
       "       [1, 0],\n",
       "       [1, 0],\n",
       "       [1, 1],\n",
       "       [0, 1],\n",
       "       [1, 0],\n",
       "       [1, 1],\n",
       "       [1, 1],\n",
       "       [1, 1],\n",
       "       [1, 1],\n",
       "       [1, 1],\n",
       "       [1, 1],\n",
       "       [1, 1],\n",
       "       [0, 1],\n",
       "       [1, 1],\n",
       "       [1, 0],\n",
       "       [1, 1],\n",
       "       [1, 1],\n",
       "       [1, 1],\n",
       "       [1, 1],\n",
       "       [1, 1],\n",
       "       [1, 0],\n",
       "       [0, 0],\n",
       "       [1, 1],\n",
       "       [1, 1],\n",
       "       [1, 1],\n",
       "       [1, 0],\n",
       "       [1, 1],\n",
       "       [1, 1],\n",
       "       [1, 1],\n",
       "       [1, 0],\n",
       "       [1, 1],\n",
       "       [1, 1],\n",
       "       [1, 1],\n",
       "       [1, 1],\n",
       "       [1, 1],\n",
       "       [1, 1],\n",
       "       [1, 1],\n",
       "       [1, 0],\n",
       "       [1, 1],\n",
       "       [1, 0],\n",
       "       [1, 1],\n",
       "       [1, 1],\n",
       "       [1, 1],\n",
       "       [0, 1],\n",
       "       [1, 1],\n",
       "       [1, 1],\n",
       "       [1, 0],\n",
       "       [0, 1],\n",
       "       [0, 1],\n",
       "       [1, 1],\n",
       "       [1, 0],\n",
       "       [1, 1],\n",
       "       [0, 1],\n",
       "       [1, 1],\n",
       "       [1, 1],\n",
       "       [1, 0],\n",
       "       [0, 1],\n",
       "       [1, 0],\n",
       "       [0, 1],\n",
       "       [1, 1],\n",
       "       [1, 1],\n",
       "       [1, 0],\n",
       "       [1, 1],\n",
       "       [1, 1],\n",
       "       [0, 0],\n",
       "       [1, 1],\n",
       "       [1, 1],\n",
       "       [1, 0],\n",
       "       [0, 1],\n",
       "       [0, 1],\n",
       "       [1, 1],\n",
       "       [1, 1],\n",
       "       [1, 1],\n",
       "       [1, 1],\n",
       "       [1, 1],\n",
       "       [1, 0],\n",
       "       [1, 1],\n",
       "       [1, 1],\n",
       "       [1, 1],\n",
       "       [1, 1],\n",
       "       [1, 1],\n",
       "       [1, 0],\n",
       "       [1, 1],\n",
       "       [1, 1],\n",
       "       [1, 0],\n",
       "       [1, 1],\n",
       "       [1, 1],\n",
       "       [1, 0],\n",
       "       [1, 1],\n",
       "       [1, 1],\n",
       "       [1, 1],\n",
       "       [0, 1],\n",
       "       [1, 1],\n",
       "       [1, 0],\n",
       "       [1, 0],\n",
       "       [0, 1],\n",
       "       [1, 1],\n",
       "       [1, 1],\n",
       "       [1, 0],\n",
       "       [1, 1],\n",
       "       [1, 1],\n",
       "       [1, 0],\n",
       "       [1, 1],\n",
       "       [1, 1],\n",
       "       [1, 1],\n",
       "       [1, 0],\n",
       "       [1, 1],\n",
       "       [1, 0],\n",
       "       [1, 0],\n",
       "       [1, 0],\n",
       "       [1, 1],\n",
       "       [1, 1],\n",
       "       [1, 1],\n",
       "       [1, 1],\n",
       "       [1, 1],\n",
       "       [1, 1],\n",
       "       [1, 1],\n",
       "       [1, 1],\n",
       "       [1, 1],\n",
       "       [1, 1],\n",
       "       [1, 0],\n",
       "       [1, 1],\n",
       "       [1, 1],\n",
       "       [1, 1],\n",
       "       [1, 1],\n",
       "       [1, 1],\n",
       "       [1, 1],\n",
       "       [0, 1],\n",
       "       [0, 1],\n",
       "       [1, 1],\n",
       "       [1, 1],\n",
       "       [1, 0],\n",
       "       [1, 1],\n",
       "       [0, 1],\n",
       "       [1, 1],\n",
       "       [1, 0],\n",
       "       [0, 1],\n",
       "       [1, 1],\n",
       "       [1, 1],\n",
       "       [1, 1],\n",
       "       [1, 1],\n",
       "       [1, 0],\n",
       "       [1, 0],\n",
       "       [1, 1],\n",
       "       [1, 1],\n",
       "       [0, 0],\n",
       "       [1, 1],\n",
       "       [1, 1],\n",
       "       [1, 1],\n",
       "       [0, 1],\n",
       "       [0, 1],\n",
       "       [1, 1],\n",
       "       [0, 1],\n",
       "       [1, 0],\n",
       "       [1, 0],\n",
       "       [1, 1],\n",
       "       [0, 1],\n",
       "       [0, 0],\n",
       "       [1, 0],\n",
       "       [1, 0],\n",
       "       [1, 1],\n",
       "       [1, 0],\n",
       "       [0, 1],\n",
       "       [1, 1],\n",
       "       [1, 1],\n",
       "       [1, 1],\n",
       "       [0, 0],\n",
       "       [1, 0],\n",
       "       [1, 1],\n",
       "       [1, 1],\n",
       "       [1, 1],\n",
       "       [0, 1],\n",
       "       [0, 1],\n",
       "       [1, 1],\n",
       "       [1, 1],\n",
       "       [1, 0],\n",
       "       [1, 1],\n",
       "       [1, 1],\n",
       "       [1, 1],\n",
       "       [1, 1],\n",
       "       [1, 1],\n",
       "       [0, 0],\n",
       "       [1, 1],\n",
       "       [1, 0],\n",
       "       [0, 1],\n",
       "       [1, 1],\n",
       "       [0, 0],\n",
       "       [1, 1],\n",
       "       [1, 1],\n",
       "       [1, 1],\n",
       "       [1, 1],\n",
       "       [0, 1],\n",
       "       [1, 1],\n",
       "       [1, 1],\n",
       "       [1, 1],\n",
       "       [1, 0],\n",
       "       [1, 1],\n",
       "       [1, 0],\n",
       "       [1, 1],\n",
       "       [1, 1],\n",
       "       [1, 1],\n",
       "       [1, 1],\n",
       "       [1, 1],\n",
       "       [1, 1],\n",
       "       [0, 1],\n",
       "       [1, 1],\n",
       "       [1, 1],\n",
       "       [1, 1],\n",
       "       [1, 1],\n",
       "       [1, 1],\n",
       "       [1, 1],\n",
       "       [1, 1],\n",
       "       [0, 1],\n",
       "       [1, 1],\n",
       "       [1, 1],\n",
       "       [0, 1],\n",
       "       [1, 0],\n",
       "       [0, 1],\n",
       "       [1, 1],\n",
       "       [0, 0],\n",
       "       [0, 1],\n",
       "       [1, 0],\n",
       "       [1, 0],\n",
       "       [1, 1],\n",
       "       [1, 1],\n",
       "       [1, 1],\n",
       "       [1, 1],\n",
       "       [1, 1],\n",
       "       [1, 1],\n",
       "       [1, 1],\n",
       "       [1, 1],\n",
       "       [1, 1],\n",
       "       [1, 1],\n",
       "       [0, 1],\n",
       "       [0, 1],\n",
       "       [1, 1],\n",
       "       [0, 1],\n",
       "       [1, 1],\n",
       "       [1, 0],\n",
       "       [0, 1],\n",
       "       [1, 1],\n",
       "       [0, 1],\n",
       "       [1, 1],\n",
       "       [1, 1],\n",
       "       [1, 1],\n",
       "       [1, 1],\n",
       "       [1, 1],\n",
       "       [1, 0],\n",
       "       [1, 1],\n",
       "       [1, 1],\n",
       "       [1, 1],\n",
       "       [1, 1],\n",
       "       [1, 1],\n",
       "       [1, 0],\n",
       "       [1, 1],\n",
       "       [1, 1],\n",
       "       [1, 0],\n",
       "       [1, 0],\n",
       "       [1, 0],\n",
       "       [1, 0],\n",
       "       [1, 1],\n",
       "       [1, 1],\n",
       "       [1, 1],\n",
       "       [1, 1],\n",
       "       [0, 0],\n",
       "       [1, 1],\n",
       "       [1, 1],\n",
       "       [1, 1],\n",
       "       [0, 1],\n",
       "       [1, 1],\n",
       "       [1, 1],\n",
       "       [1, 1],\n",
       "       [1, 1],\n",
       "       [1, 0],\n",
       "       [1, 0],\n",
       "       [1, 0],\n",
       "       [1, 1],\n",
       "       [1, 1],\n",
       "       [1, 0],\n",
       "       [0, 0],\n",
       "       [1, 1],\n",
       "       [1, 1],\n",
       "       [1, 1],\n",
       "       [1, 1],\n",
       "       [1, 1],\n",
       "       [1, 1],\n",
       "       [1, 1],\n",
       "       [1, 1],\n",
       "       [1, 1],\n",
       "       [1, 1],\n",
       "       [1, 1],\n",
       "       [1, 1],\n",
       "       [1, 1],\n",
       "       [1, 1],\n",
       "       [1, 0],\n",
       "       [1, 1],\n",
       "       [1, 1],\n",
       "       [1, 1],\n",
       "       [1, 1],\n",
       "       [1, 1],\n",
       "       [1, 1],\n",
       "       [1, 1],\n",
       "       [0, 1],\n",
       "       [1, 0],\n",
       "       [1, 1],\n",
       "       [1, 1],\n",
       "       [1, 1],\n",
       "       [1, 1],\n",
       "       [1, 1],\n",
       "       [1, 1],\n",
       "       [1, 0],\n",
       "       [0, 1],\n",
       "       [1, 1],\n",
       "       [1, 1],\n",
       "       [1, 1],\n",
       "       [1, 1],\n",
       "       [1, 1],\n",
       "       [1, 1],\n",
       "       [1, 1],\n",
       "       [1, 1],\n",
       "       [1, 1],\n",
       "       [1, 1],\n",
       "       [1, 1],\n",
       "       [1, 1],\n",
       "       [1, 0],\n",
       "       [1, 0],\n",
       "       [1, 1],\n",
       "       [1, 1],\n",
       "       [1, 0],\n",
       "       [1, 1],\n",
       "       [1, 0],\n",
       "       [0, 1],\n",
       "       [1, 1],\n",
       "       [1, 1],\n",
       "       [1, 1],\n",
       "       [0, 1],\n",
       "       [1, 1],\n",
       "       [0, 1],\n",
       "       [1, 1],\n",
       "       [1, 1],\n",
       "       [1, 0],\n",
       "       [1, 0],\n",
       "       [1, 1],\n",
       "       [1, 1],\n",
       "       [1, 1],\n",
       "       [1, 0],\n",
       "       [0, 1],\n",
       "       [0, 1],\n",
       "       [1, 1],\n",
       "       [1, 1],\n",
       "       [1, 1],\n",
       "       [1, 1],\n",
       "       [0, 0],\n",
       "       [1, 1],\n",
       "       [1, 1],\n",
       "       [1, 0],\n",
       "       [1, 1],\n",
       "       [0, 0],\n",
       "       [1, 0],\n",
       "       [1, 1],\n",
       "       [1, 1],\n",
       "       [1, 1],\n",
       "       [1, 1],\n",
       "       [1, 1],\n",
       "       [1, 1],\n",
       "       [1, 1],\n",
       "       [1, 0],\n",
       "       [1, 1],\n",
       "       [0, 1],\n",
       "       [1, 1],\n",
       "       [1, 1],\n",
       "       [1, 1],\n",
       "       [1, 1],\n",
       "       [0, 1],\n",
       "       [0, 1],\n",
       "       [1, 1],\n",
       "       [1, 1],\n",
       "       [1, 1],\n",
       "       [1, 1],\n",
       "       [1, 1],\n",
       "       [1, 1],\n",
       "       [0, 1],\n",
       "       [1, 1],\n",
       "       [1, 0],\n",
       "       [1, 1],\n",
       "       [1, 1],\n",
       "       [1, 1],\n",
       "       [1, 1],\n",
       "       [1, 0],\n",
       "       [1, 0],\n",
       "       [0, 1],\n",
       "       [1, 1],\n",
       "       [0, 1],\n",
       "       [1, 1],\n",
       "       [0, 1],\n",
       "       [1, 1],\n",
       "       [1, 1],\n",
       "       [1, 0],\n",
       "       [1, 1],\n",
       "       [1, 1],\n",
       "       [1, 1],\n",
       "       [1, 1],\n",
       "       [0, 1],\n",
       "       [1, 1],\n",
       "       [1, 1],\n",
       "       [1, 1],\n",
       "       [0, 1],\n",
       "       [1, 1],\n",
       "       [0, 0],\n",
       "       [1, 1],\n",
       "       [1, 0],\n",
       "       [1, 1],\n",
       "       [1, 1]])"
      ]
     },
     "execution_count": 105,
     "metadata": {},
     "output_type": "execute_result"
    }
   ],
   "source": [
    "binomial_samples"
   ]
  },
  {
   "cell_type": "code",
   "execution_count": 106,
   "metadata": {},
   "outputs": [],
   "source": [
    "number_of_int_students = np.count_nonzero(binomial_samples,axis=1)"
   ]
  },
  {
   "cell_type": "code",
   "execution_count": 107,
   "metadata": {},
   "outputs": [],
   "source": [
    "sample_means = number_of_int_students/N"
   ]
  },
  {
   "cell_type": "code",
   "execution_count": 108,
   "metadata": {},
   "outputs": [
    {
     "data": {
      "text/plain": [
       "array([1. , 1. , 1. , 0. , 0.5, 1. , 1. , 1. , 0.5, 1. , 0.5, 1. , 0.5,\n",
       "       1. , 1. , 1. , 1. , 0.5, 1. , 1. , 1. , 0.5, 1. , 1. , 1. , 0.5,\n",
       "       0.5, 1. , 1. , 1. , 1. , 1. , 1. , 0.5, 1. , 1. , 0.5, 1. , 0.5,\n",
       "       1. , 1. , 1. , 1. , 1. , 1. , 1. , 1. , 1. , 0.5, 1. , 1. , 1. ,\n",
       "       1. , 0.5, 1. , 1. , 0.5, 1. , 1. , 0.5, 1. , 1. , 1. , 0.5, 0.5,\n",
       "       0.5, 1. , 1. , 0. , 1. , 1. , 1. , 0.5, 1. , 1. , 0.5, 1. , 0.5,\n",
       "       1. , 0.5, 1. , 1. , 0.5, 1. , 1. , 1. , 0. , 0.5, 0.5, 1. , 0.5,\n",
       "       0.5, 1. , 1. , 1. , 1. , 1. , 1. , 1. , 0.5, 1. , 0.5, 1. , 1. ,\n",
       "       1. , 1. , 1. , 0.5, 0. , 1. , 1. , 1. , 0.5, 1. , 1. , 1. , 0.5,\n",
       "       1. , 1. , 1. , 1. , 1. , 1. , 1. , 0.5, 1. , 0.5, 1. , 1. , 1. ,\n",
       "       0.5, 1. , 1. , 0.5, 0.5, 0.5, 1. , 0.5, 1. , 0.5, 1. , 1. , 0.5,\n",
       "       0.5, 0.5, 0.5, 1. , 1. , 0.5, 1. , 1. , 0. , 1. , 1. , 0.5, 0.5,\n",
       "       0.5, 1. , 1. , 1. , 1. , 1. , 0.5, 1. , 1. , 1. , 1. , 1. , 0.5,\n",
       "       1. , 1. , 0.5, 1. , 1. , 0.5, 1. , 1. , 1. , 0.5, 1. , 0.5, 0.5,\n",
       "       0.5, 1. , 1. , 0.5, 1. , 1. , 0.5, 1. , 1. , 1. , 0.5, 1. , 0.5,\n",
       "       0.5, 0.5, 1. , 1. , 1. , 1. , 1. , 1. , 1. , 1. , 1. , 1. , 0.5,\n",
       "       1. , 1. , 1. , 1. , 1. , 1. , 0.5, 0.5, 1. , 1. , 0.5, 1. , 0.5,\n",
       "       1. , 0.5, 0.5, 1. , 1. , 1. , 1. , 0.5, 0.5, 1. , 1. , 0. , 1. ,\n",
       "       1. , 1. , 0.5, 0.5, 1. , 0.5, 0.5, 0.5, 1. , 0.5, 0. , 0.5, 0.5,\n",
       "       1. , 0.5, 0.5, 1. , 1. , 1. , 0. , 0.5, 1. , 1. , 1. , 0.5, 0.5,\n",
       "       1. , 1. , 0.5, 1. , 1. , 1. , 1. , 1. , 0. , 1. , 0.5, 0.5, 1. ,\n",
       "       0. , 1. , 1. , 1. , 1. , 0.5, 1. , 1. , 1. , 0.5, 1. , 0.5, 1. ,\n",
       "       1. , 1. , 1. , 1. , 1. , 0.5, 1. , 1. , 1. , 1. , 1. , 1. , 1. ,\n",
       "       0.5, 1. , 1. , 0.5, 0.5, 0.5, 1. , 0. , 0.5, 0.5, 0.5, 1. , 1. ,\n",
       "       1. , 1. , 1. , 1. , 1. , 1. , 1. , 1. , 0.5, 0.5, 1. , 0.5, 1. ,\n",
       "       0.5, 0.5, 1. , 0.5, 1. , 1. , 1. , 1. , 1. , 0.5, 1. , 1. , 1. ,\n",
       "       1. , 1. , 0.5, 1. , 1. , 0.5, 0.5, 0.5, 0.5, 1. , 1. , 1. , 1. ,\n",
       "       0. , 1. , 1. , 1. , 0.5, 1. , 1. , 1. , 1. , 0.5, 0.5, 0.5, 1. ,\n",
       "       1. , 0.5, 0. , 1. , 1. , 1. , 1. , 1. , 1. , 1. , 1. , 1. , 1. ,\n",
       "       1. , 1. , 1. , 1. , 0.5, 1. , 1. , 1. , 1. , 1. , 1. , 1. , 0.5,\n",
       "       0.5, 1. , 1. , 1. , 1. , 1. , 1. , 0.5, 0.5, 1. , 1. , 1. , 1. ,\n",
       "       1. , 1. , 1. , 1. , 1. , 1. , 1. , 1. , 0.5, 0.5, 1. , 1. , 0.5,\n",
       "       1. , 0.5, 0.5, 1. , 1. , 1. , 0.5, 1. , 0.5, 1. , 1. , 0.5, 0.5,\n",
       "       1. , 1. , 1. , 0.5, 0.5, 0.5, 1. , 1. , 1. , 1. , 0. , 1. , 1. ,\n",
       "       0.5, 1. , 0. , 0.5, 1. , 1. , 1. , 1. , 1. , 1. , 1. , 0.5, 1. ,\n",
       "       0.5, 1. , 1. , 1. , 1. , 0.5, 0.5, 1. , 1. , 1. , 1. , 1. , 1. ,\n",
       "       0.5, 1. , 0.5, 1. , 1. , 1. , 1. , 0.5, 0.5, 0.5, 1. , 0.5, 1. ,\n",
       "       0.5, 1. , 1. , 0.5, 1. , 1. , 1. , 1. , 0.5, 1. , 1. , 1. , 0.5,\n",
       "       1. , 0. , 1. , 0.5, 1. , 1. ])"
      ]
     },
     "execution_count": 108,
     "metadata": {},
     "output_type": "execute_result"
    }
   ],
   "source": [
    "sample_means"
   ]
  },
  {
   "cell_type": "code",
   "execution_count": 109,
   "metadata": {},
   "outputs": [
    {
     "data": {
      "text/plain": [
       "<matplotlib.axes._subplots.AxesSubplot at 0x1c3cbae6518>"
      ]
     },
     "execution_count": 109,
     "metadata": {},
     "output_type": "execute_result"
    },
    {
     "data": {
      "image/png": "[encoded data removed]",
      "text/plain": [
       "<Figure size 432x288 with 1 Axes>"
      ]
     },
     "metadata": {
      "needs_background": "light"
     },
     "output_type": "display_data"
    }
   ],
   "source": [
    "sns.distplot(sample_means,bins=10,kde=False,fit=s.norm)"
   ]
  },
  {
   "cell_type": "code",
   "execution_count": 110,
   "metadata": {},
   "outputs": [],
   "source": [
    "var_x_bar_star = np.var(sample_means)"
   ]
  },
  {
   "cell_type": "code",
   "execution_count": 111,
   "metadata": {},
   "outputs": [
    {
     "data": {
      "text/plain": [
       "0.073739"
      ]
     },
     "execution_count": 111,
     "metadata": {},
     "output_type": "execute_result"
    }
   ],
   "source": [
    "var_x_bar_star"
   ]
  },
  {
   "cell_type": "code",
   "execution_count": 112,
   "metadata": {},
   "outputs": [],
   "source": [
    "sd_mean = np.mean(sample_means)"
   ]
  },
  {
   "cell_type": "code",
   "execution_count": 113,
   "metadata": {},
   "outputs": [
    {
     "data": {
      "text/plain": [
       "0.819"
      ]
     },
     "execution_count": 113,
     "metadata": {},
     "output_type": "execute_result"
    }
   ],
   "source": [
    "sd_mean"
   ]
  },
  {
   "cell_type": "code",
   "execution_count": 114,
   "metadata": {},
   "outputs": [],
   "source": [
    "N = 5\n",
    "\n",
    "binomial_samples = np.random.binomial(n=1,p=0.81,size=(500,N))"
   ]
  },
  {
   "cell_type": "code",
   "execution_count": 116,
   "metadata": {},
   "outputs": [
    {
     "data": {
      "text/plain": [
       "array([[1, 1, 0, 1, 1],\n",
       "       [0, 1, 0, 1, 1],\n",
       "       [0, 1, 1, 0, 0],\n",
       "       ...,\n",
       "       [0, 0, 1, 1, 1],\n",
       "       [1, 1, 1, 1, 1],\n",
       "       [1, 1, 1, 0, 1]])"
      ]
     },
     "execution_count": 116,
     "metadata": {},
     "output_type": "execute_result"
    }
   ],
   "source": [
    "binomial_samples"
   ]
  },
  {
   "cell_type": "code",
   "execution_count": 117,
   "metadata": {},
   "outputs": [],
   "source": [
    "sample_means = np.mean(binomial_samples,axis=1)"
   ]
  },
  {
   "cell_type": "code",
   "execution_count": 118,
   "metadata": {},
   "outputs": [
    {
     "data": {
      "text/plain": [
       "array([0.8, 0.6, 0.4, 0.8, 1. , 0.8, 1. , 0.8, 0.8, 1. , 0.8, 0.8, 0.8,\n",
       "       0.8, 0.4, 0.8, 0.8, 0.8, 0.8, 1. , 0.8, 0.6, 1. , 0.8, 1. , 0.6,\n",
       "       0.8, 0.6, 0.8, 1. , 0.8, 0.6, 1. , 0.8, 0.6, 1. , 1. , 0.8, 0.6,\n",
       "       1. , 1. , 0.8, 1. , 0.8, 1. , 1. , 0.8, 1. , 1. , 0.8, 0.8, 0.6,\n",
       "       0.8, 0.8, 0.8, 1. , 0.8, 1. , 0.8, 0.8, 1. , 0.8, 1. , 0.8, 1. ,\n",
       "       0.8, 0.8, 0.8, 1. , 0.8, 0.8, 0.6, 0.8, 0.8, 0.6, 0.8, 0.8, 1. ,\n",
       "       0.6, 1. , 0.6, 0.8, 0.8, 0.8, 1. , 0.8, 0.8, 0.8, 0.8, 0.8, 0.6,\n",
       "       0.8, 0.6, 1. , 0.8, 0.8, 1. , 0.8, 0.8, 0.8, 0.6, 0.4, 1. , 1. ,\n",
       "       0.6, 1. , 1. , 1. , 0.8, 0.6, 0.6, 1. , 0.6, 0.8, 0.6, 0.8, 0.6,\n",
       "       0.8, 0.8, 1. , 1. , 1. , 0.2, 1. , 0.8, 0.6, 1. , 0.8, 1. , 0.8,\n",
       "       0.8, 1. , 0.8, 1. , 0.8, 0.4, 0.6, 0.6, 0.8, 0.8, 0.4, 0.6, 1. ,\n",
       "       0.8, 0.8, 0.2, 1. , 1. , 0.6, 1. , 0.8, 1. , 0.8, 0.6, 0.2, 0.8,\n",
       "       0.8, 1. , 1. , 0.8, 1. , 0.8, 1. , 0.8, 0.6, 0.8, 0.4, 0.8, 0.8,\n",
       "       1. , 0.8, 0.6, 1. , 0.6, 0.6, 1. , 0.8, 0.8, 0.6, 0.8, 0.8, 0.6,\n",
       "       1. , 0.6, 1. , 0.4, 0.8, 0.6, 1. , 0.6, 0.6, 1. , 0.8, 0.8, 0.6,\n",
       "       0.6, 0.8, 0.6, 1. , 0.6, 0.4, 0.6, 0.6, 0.6, 1. , 0.6, 0.8, 0.6,\n",
       "       0.8, 1. , 0.8, 1. , 1. , 0.6, 0.6, 0.8, 1. , 0.8, 0.8, 0.6, 1. ,\n",
       "       1. , 1. , 1. , 0.6, 0.8, 1. , 0.8, 0.6, 1. , 0.8, 0.8, 0.8, 0.8,\n",
       "       0.6, 1. , 0.6, 0.8, 0.8, 0.8, 0.6, 0.8, 0.8, 0.8, 1. , 0.6, 1. ,\n",
       "       0.8, 0.8, 1. , 1. , 0.8, 0.6, 0.8, 0.4, 0.8, 0.8, 1. , 0.6, 0.6,\n",
       "       1. , 0.8, 0.6, 0.8, 1. , 0.8, 0.8, 0.6, 1. , 0.2, 0.6, 1. , 0.6,\n",
       "       0.6, 0.8, 0.8, 1. , 1. , 0.6, 1. , 0.8, 1. , 1. , 1. , 1. , 0.8,\n",
       "       1. , 0.6, 0.8, 1. , 1. , 0.8, 0.8, 1. , 1. , 0.6, 1. , 0.8, 1. ,\n",
       "       1. , 0.8, 1. , 1. , 0.8, 0.4, 0.8, 1. , 1. , 0.6, 0.8, 0.8, 0.6,\n",
       "       1. , 0.4, 0.6, 0.8, 1. , 1. , 0.8, 1. , 1. , 0.8, 1. , 1. , 1. ,\n",
       "       0.4, 1. , 0.8, 1. , 0.6, 0.8, 0.6, 0.8, 0.6, 1. , 0.8, 1. , 0.8,\n",
       "       0.8, 1. , 0.4, 1. , 1. , 0.8, 0.8, 0.8, 0.8, 0.8, 0.6, 0.8, 0.8,\n",
       "       0.6, 1. , 0.8, 0.8, 1. , 1. , 1. , 0.6, 0.8, 0.8, 0.8, 0.6, 1. ,\n",
       "       1. , 0.8, 0.8, 0.8, 1. , 0.8, 1. , 0.6, 0.8, 0.8, 1. , 1. , 1. ,\n",
       "       0.6, 1. , 0.8, 1. , 1. , 1. , 1. , 1. , 0.8, 0.8, 1. , 0.6, 0.6,\n",
       "       1. , 1. , 1. , 0.8, 1. , 0.6, 0.6, 0.8, 0.8, 0.6, 1. , 0.8, 1. ,\n",
       "       0.8, 0.8, 0.8, 0.6, 1. , 0.8, 0.6, 1. , 0.8, 0.8, 0.6, 1. , 0.6,\n",
       "       0.8, 0.8, 0.8, 0.8, 1. , 1. , 0.8, 1. , 1. , 1. , 1. , 0.8, 1. ,\n",
       "       1. , 0.8, 0.8, 1. , 1. , 0.8, 1. , 1. , 1. , 0.4, 0.8, 0.6, 0.6,\n",
       "       0.6, 0.8, 0.8, 1. , 1. , 0.6, 0.8, 0.6, 1. , 1. , 0.8, 0.8, 0.6,\n",
       "       1. , 0.6, 0.8, 0.8, 0.6, 0.8, 0.6, 0.8, 1. , 0.4, 0.4, 0.8, 0.8,\n",
       "       1. , 0.4, 0.4, 1. , 1. , 1. , 0.8, 0.6, 0.8, 0.6, 1. , 0.8, 1. ,\n",
       "       0.6, 0.8, 0.8, 1. , 0.6, 1. , 0.6, 0.6, 0.6, 0.8, 1. , 0.6, 0.8,\n",
       "       0.8, 0.8, 0.8, 0.6, 1. , 0.8])"
      ]
     },
     "execution_count": 118,
     "metadata": {},
     "output_type": "execute_result"
    }
   ],
   "source": [
    "sample_means"
   ]
  },
  {
   "cell_type": "code",
   "execution_count": 119,
   "metadata": {},
   "outputs": [
    {
     "data": {
      "text/plain": [
       "array([0.2, 0.4, 0.6, 0.8, 1. ])"
      ]
     },
     "execution_count": 119,
     "metadata": {},
     "output_type": "execute_result"
    }
   ],
   "source": [
    "np.unique(sample_means)"
   ]
  },
  {
   "cell_type": "code",
   "execution_count": 121,
   "metadata": {},
   "outputs": [
    {
     "data": {
      "text/plain": [
       "Text(0, 0.5, 'Frequency')"
      ]
     },
     "execution_count": 121,
     "metadata": {},
     "output_type": "execute_result"
    },
    {
     "data": {
      "image/png": "[encoded data removed]",
      "text/plain": [
       "<Figure size 432x288 with 1 Axes>"
      ]
     },
     "metadata": {
      "needs_background": "light"
     },
     "output_type": "display_data"
    }
   ],
   "source": [
    "sns.distplot(sample_means,bins=5,kde=False,fit=s.norm)\n",
    "\n",
    "plt.xlabel(\"Sample Mean of Sample Size=5\")\n",
    "\n",
    "plt.ylabel(\"Frequency\")"
   ]
  },
  {
   "cell_type": "code",
   "execution_count": 122,
   "metadata": {},
   "outputs": [],
   "source": [
    "sd_mean = np.mean(sample_means)"
   ]
  },
  {
   "cell_type": "code",
   "execution_count": 123,
   "metadata": {},
   "outputs": [
    {
     "data": {
      "text/plain": [
       "0.8068"
      ]
     },
     "execution_count": 123,
     "metadata": {},
     "output_type": "execute_result"
    }
   ],
   "source": [
    "sd_mean"
   ]
  },
  {
   "cell_type": "code",
   "execution_count": 124,
   "metadata": {},
   "outputs": [],
   "source": [
    "var_x_bar_star = np.var(sample_means)"
   ]
  },
  {
   "cell_type": "code",
   "execution_count": 125,
   "metadata": {},
   "outputs": [
    {
     "data": {
      "text/plain": [
       "0.03059376"
      ]
     },
     "execution_count": 125,
     "metadata": {},
     "output_type": "execute_result"
    }
   ],
   "source": [
    "var_x_bar_star"
   ]
  },
  {
   "cell_type": "code",
   "execution_count": 126,
   "metadata": {},
   "outputs": [],
   "source": [
    "N = 40\n",
    "\n",
    "binomial_samples = np.random.binomial(n=1,p=0.81,size=(500,N))"
   ]
  },
  {
   "cell_type": "code",
   "execution_count": 127,
   "metadata": {},
   "outputs": [
    {
     "data": {
      "text/plain": [
       "array([[1, 0, 1, ..., 0, 1, 1],\n",
       "       [1, 1, 0, ..., 1, 0, 1],\n",
       "       [1, 1, 1, ..., 1, 1, 1],\n",
       "       ...,\n",
       "       [1, 1, 1, ..., 1, 0, 0],\n",
       "       [1, 1, 0, ..., 0, 1, 1],\n",
       "       [1, 1, 1, ..., 1, 1, 1]])"
      ]
     },
     "execution_count": 127,
     "metadata": {},
     "output_type": "execute_result"
    }
   ],
   "source": [
    "binomial_samples"
   ]
  },
  {
   "cell_type": "code",
   "execution_count": 128,
   "metadata": {},
   "outputs": [],
   "source": [
    "sample_means = np.mean(binomial_samples,axis=1)"
   ]
  },
  {
   "cell_type": "code",
   "execution_count": 129,
   "metadata": {},
   "outputs": [
    {
     "data": {
      "text/plain": [
       "array([0.8  , 0.825, 0.75 , 0.75 , 0.85 , 0.775, 0.75 , 0.85 , 0.825,\n",
       "       0.9  , 0.775, 0.75 , 0.775, 0.725, 0.925, 0.825, 0.8  , 0.825,\n",
       "       0.875, 0.8  , 0.775, 0.75 , 0.825, 0.8  , 0.75 , 0.9  , 0.85 ,\n",
       "       0.875, 0.825, 0.8  , 0.75 , 0.8  , 0.75 , 0.875, 0.9  , 0.825,\n",
       "       0.625, 0.6  , 0.925, 0.95 , 0.8  , 0.775, 0.85 , 0.9  , 0.8  ,\n",
       "       0.725, 0.825, 0.8  , 0.85 , 0.625, 0.775, 0.875, 0.9  , 0.8  ,\n",
       "       0.8  , 0.675, 0.8  , 0.675, 0.85 , 0.725, 0.7  , 0.875, 0.825,\n",
       "       0.825, 0.85 , 0.9  , 0.8  , 0.725, 0.725, 0.775, 0.8  , 0.95 ,\n",
       "       0.825, 0.825, 0.9  , 0.85 , 0.8  , 0.875, 0.8  , 0.85 , 0.875,\n",
       "       0.775, 0.825, 0.75 , 0.85 , 0.9  , 0.775, 0.85 , 0.85 , 0.75 ,\n",
       "       0.7  , 0.775, 0.9  , 0.875, 0.725, 0.775, 0.8  , 0.675, 0.85 ,\n",
       "       0.825, 0.725, 0.825, 0.85 , 0.9  , 0.775, 0.675, 0.85 , 0.8  ,\n",
       "       0.75 , 0.85 , 0.825, 0.85 , 0.675, 0.85 , 0.875, 0.8  , 0.8  ,\n",
       "       0.925, 0.7  , 0.775, 0.8  , 0.825, 0.825, 0.8  , 0.85 , 0.775,\n",
       "       0.825, 0.875, 0.85 , 0.85 , 0.75 , 0.825, 0.8  , 0.85 , 0.75 ,\n",
       "       0.85 , 0.8  , 0.875, 0.825, 0.875, 0.875, 0.875, 0.8  , 0.875,\n",
       "       0.8  , 0.775, 0.825, 0.775, 0.775, 0.8  , 0.85 , 0.75 , 0.8  ,\n",
       "       0.875, 0.775, 0.875, 0.775, 0.65 , 0.7  , 0.9  , 0.8  , 0.85 ,\n",
       "       0.825, 0.75 , 0.75 , 0.825, 0.9  , 0.825, 0.825, 0.775, 0.85 ,\n",
       "       0.65 , 0.825, 0.8  , 0.825, 0.825, 0.8  , 0.775, 0.75 , 0.775,\n",
       "       0.725, 0.825, 0.875, 0.85 , 0.8  , 0.9  , 0.825, 0.9  , 0.7  ,\n",
       "       0.8  , 0.925, 0.925, 0.875, 0.875, 0.85 , 0.875, 0.85 , 0.875,\n",
       "       0.825, 0.825, 0.875, 0.825, 0.775, 0.875, 0.85 , 0.85 , 0.85 ,\n",
       "       0.925, 0.85 , 0.875, 0.8  , 0.85 , 0.75 , 0.875, 0.875, 0.85 ,\n",
       "       0.825, 0.85 , 0.8  , 0.875, 0.775, 0.875, 0.825, 0.825, 0.85 ,\n",
       "       0.775, 0.85 , 0.825, 0.85 , 0.925, 0.85 , 0.775, 0.9  , 0.775,\n",
       "       0.775, 0.85 , 0.85 , 0.825, 0.75 , 0.925, 0.875, 0.9  , 0.675,\n",
       "       0.8  , 0.775, 0.825, 0.825, 0.825, 0.825, 0.825, 0.8  , 0.7  ,\n",
       "       0.75 , 0.875, 0.7  , 0.8  , 0.8  , 0.75 , 0.775, 0.75 , 0.825,\n",
       "       0.85 , 0.825, 0.925, 0.8  , 0.85 , 0.775, 0.925, 0.875, 0.8  ,\n",
       "       0.75 , 0.875, 0.875, 0.75 , 0.725, 0.875, 0.725, 0.9  , 0.875,\n",
       "       0.75 , 0.7  , 0.85 , 0.825, 0.8  , 0.75 , 0.75 , 0.725, 0.825,\n",
       "       0.9  , 0.775, 0.725, 0.675, 0.8  , 0.925, 0.825, 0.85 , 0.65 ,\n",
       "       0.85 , 0.8  , 0.875, 0.825, 0.775, 0.825, 0.85 , 0.775, 0.725,\n",
       "       0.85 , 0.95 , 0.75 , 0.825, 0.925, 0.775, 0.675, 0.825, 0.7  ,\n",
       "       0.725, 0.75 , 0.725, 0.85 , 0.85 , 0.825, 0.725, 0.875, 0.725,\n",
       "       0.725, 0.8  , 0.8  , 0.75 , 0.6  , 0.825, 0.8  , 0.85 , 0.875,\n",
       "       0.875, 0.85 , 0.925, 0.9  , 0.725, 0.75 , 0.9  , 0.8  , 0.75 ,\n",
       "       0.925, 0.75 , 0.825, 0.85 , 0.9  , 0.875, 0.75 , 0.875, 0.825,\n",
       "       0.775, 0.825, 0.725, 0.85 , 0.875, 0.85 , 0.775, 0.7  , 0.8  ,\n",
       "       0.825, 0.6  , 0.85 , 0.75 , 0.7  , 0.875, 0.9  , 0.775, 0.65 ,\n",
       "       0.725, 0.85 , 0.775, 0.85 , 0.875, 0.85 , 0.825, 0.775, 0.825,\n",
       "       0.825, 0.975, 0.8  , 0.8  , 0.85 , 0.775, 0.75 , 0.675, 0.775,\n",
       "       0.875, 0.85 , 0.825, 0.85 , 0.8  , 0.8  , 0.725, 0.725, 0.875,\n",
       "       0.8  , 0.825, 0.875, 0.775, 0.8  , 0.775, 0.8  , 0.775, 0.775,\n",
       "       0.75 , 0.85 , 0.925, 0.775, 0.775, 0.925, 0.9  , 0.9  , 0.85 ,\n",
       "       0.65 , 0.7  , 0.925, 0.825, 0.825, 0.825, 0.925, 0.7  , 0.8  ,\n",
       "       0.775, 0.775, 0.875, 0.875, 0.825, 0.75 , 0.8  , 0.85 , 0.925,\n",
       "       0.85 , 0.875, 0.825, 0.825, 0.775, 0.825, 0.8  , 0.925, 0.875,\n",
       "       0.7  , 0.85 , 0.8  , 0.8  , 0.925, 0.825, 0.775, 0.775, 0.775,\n",
       "       0.775, 0.875, 0.875, 0.95 , 0.925, 0.775, 0.825, 0.825, 0.75 ,\n",
       "       0.7  , 0.775, 0.8  , 0.775, 0.775, 0.775, 0.825, 0.85 , 0.8  ,\n",
       "       0.85 , 0.775, 0.725, 0.75 , 0.825, 0.775, 0.8  , 0.85 , 0.775,\n",
       "       0.8  , 0.875, 0.825, 0.825, 0.8  , 0.8  , 0.85 , 0.825, 0.85 ,\n",
       "       0.85 , 0.85 , 0.75 , 0.725, 0.95 , 0.775, 0.725, 0.8  , 0.825,\n",
       "       0.825, 0.825, 0.9  , 0.875, 0.8  ])"
      ]
     },
     "execution_count": 129,
     "metadata": {},
     "output_type": "execute_result"
    }
   ],
   "source": [
    "sample_means"
   ]
  },
  {
   "cell_type": "code",
   "execution_count": 130,
   "metadata": {},
   "outputs": [
    {
     "data": {
      "text/plain": [
       "array([0.6  , 0.625, 0.65 , 0.675, 0.7  , 0.725, 0.75 , 0.775, 0.8  ,\n",
       "       0.825, 0.85 , 0.875, 0.9  , 0.925, 0.95 , 0.975])"
      ]
     },
     "execution_count": 130,
     "metadata": {},
     "output_type": "execute_result"
    }
   ],
   "source": [
    "np.unique(sample_means)"
   ]
  },
  {
   "cell_type": "code",
   "execution_count": 133,
   "metadata": {},
   "outputs": [
    {
     "data": {
      "text/plain": [
       "Text(0, 0.5, 'Frequency')"
      ]
     },
     "execution_count": 133,
     "metadata": {},
     "output_type": "execute_result"
    },
    {
     "data": {
      "image/png": "[encoded data removed]",
      "text/plain": [
       "<Figure size 432x288 with 1 Axes>"
      ]
     },
     "metadata": {
      "needs_background": "light"
     },
     "output_type": "display_data"
    }
   ],
   "source": [
    "sns.distplot(sample_means,bins=8,kde=False,fit=s.norm)\n",
    "\n",
    "plt.xlabel(\"Sample Mean of Sample Size=40\")\n",
    "\n",
    "plt.ylabel(\"Frequency\")"
   ]
  },
  {
   "cell_type": "code",
   "execution_count": 134,
   "metadata": {},
   "outputs": [],
   "source": [
    "var_x_bar_star = np.var(sample_means)"
   ]
  },
  {
   "cell_type": "code",
   "execution_count": 135,
   "metadata": {},
   "outputs": [
    {
     "data": {
      "text/plain": [
       "0.004171249999999999"
      ]
     },
     "execution_count": 135,
     "metadata": {},
     "output_type": "execute_result"
    }
   ],
   "source": [
    "var_x_bar_star"
   ]
  },
  {
   "cell_type": "code",
   "execution_count": 136,
   "metadata": {},
   "outputs": [],
   "source": [
    "sd_mean = np.mean(sample_means)"
   ]
  },
  {
   "cell_type": "code",
   "execution_count": 137,
   "metadata": {},
   "outputs": [
    {
     "data": {
      "text/plain": [
       "0.8125"
      ]
     },
     "execution_count": 137,
     "metadata": {},
     "output_type": "execute_result"
    }
   ],
   "source": [
    "sd_mean"
   ]
  },
  {
   "cell_type": "markdown",
   "metadata": {},
   "source": [
    "# Now for Poisson Distribution"
   ]
  },
  {
   "cell_type": "code",
   "execution_count": 138,
   "metadata": {},
   "outputs": [],
   "source": [
    "N = 2\n",
    "\n",
    "poisson_samples = np.random.poisson(lam=2.5,size=(500,N))"
   ]
  },
  {
   "cell_type": "code",
   "execution_count": 142,
   "metadata": {},
   "outputs": [],
   "source": [
    "sample_means = np.mean(poisson_samples,axis=1)"
   ]
  },
  {
   "cell_type": "code",
   "execution_count": 143,
   "metadata": {},
   "outputs": [
    {
     "data": {
      "text/plain": [
       "array([3.5, 2. , 2.5, 2.5, 3.5, 2.5, 0. , 2. , 1.5, 1.5, 3. , 2. , 2. ,\n",
       "       2.5, 2.5, 3.5, 5. , 4. , 1. , 2. , 2. , 2. , 2.5, 4. , 1.5, 2.5,\n",
       "       3.5, 3.5, 3.5, 3. , 3. , 2.5, 1.5, 1.5, 4.5, 2.5, 3.5, 2.5, 1.5,\n",
       "       4.5, 3. , 0.5, 3.5, 1.5, 2.5, 5. , 0.5, 3. , 3.5, 2.5, 1.5, 6.5,\n",
       "       3. , 3.5, 4. , 3. , 2. , 1. , 2. , 3. , 2. , 2.5, 1.5, 0. , 3. ,\n",
       "       1.5, 3.5, 2. , 2. , 3. , 1.5, 1.5, 1.5, 1.5, 4. , 4.5, 3.5, 3. ,\n",
       "       2.5, 2.5, 2. , 4. , 3. , 1. , 3. , 1. , 4.5, 3. , 3. , 3.5, 5.5,\n",
       "       1. , 3.5, 2.5, 1. , 3. , 0.5, 1. , 1.5, 1. , 2.5, 2.5, 1.5, 1.5,\n",
       "       1.5, 2.5, 2.5, 3.5, 4.5, 1.5, 3. , 2. , 6. , 2. , 1.5, 5. , 2.5,\n",
       "       1.5, 0.5, 1.5, 5. , 4. , 3. , 1.5, 2.5, 0. , 0. , 2. , 2.5, 3. ,\n",
       "       2.5, 3.5, 3. , 3. , 2. , 1.5, 1.5, 2.5, 2. , 2. , 4. , 2.5, 3.5,\n",
       "       2.5, 4.5, 4.5, 2.5, 1. , 2.5, 2.5, 2. , 2.5, 3.5, 1.5, 2.5, 2.5,\n",
       "       2. , 5.5, 3.5, 2. , 2.5, 1. , 1. , 3.5, 2.5, 1.5, 1. , 1.5, 2. ,\n",
       "       3. , 2.5, 1. , 3. , 2.5, 1.5, 3. , 1. , 3. , 4. , 5. , 2.5, 1. ,\n",
       "       1. , 4.5, 3.5, 3. , 1.5, 3.5, 0.5, 2. , 2. , 4. , 3.5, 1. , 1.5,\n",
       "       4.5, 2.5, 4. , 3.5, 1.5, 4. , 3. , 0. , 3.5, 3. , 4.5, 2. , 2.5,\n",
       "       1.5, 1.5, 1.5, 2.5, 1.5, 1.5, 1.5, 0.5, 2. , 1.5, 1.5, 3. , 2.5,\n",
       "       2.5, 0.5, 2.5, 3. , 3.5, 4. , 2.5, 3. , 2.5, 2.5, 1.5, 1. , 4. ,\n",
       "       0.5, 1.5, 3.5, 3.5, 4. , 4.5, 4. , 2. , 1.5, 2. , 4. , 2. , 1.5,\n",
       "       3. , 3. , 2. , 2.5, 1.5, 2. , 2. , 2.5, 4. , 4. , 1. , 1.5, 3. ,\n",
       "       3. , 2.5, 3. , 2. , 3. , 2. , 2.5, 2.5, 1.5, 4. , 4. , 3. , 3. ,\n",
       "       3.5, 1.5, 2.5, 2.5, 1. , 1.5, 1.5, 4.5, 2.5, 3.5, 3. , 2. , 1.5,\n",
       "       2.5, 1.5, 0.5, 3. , 1.5, 2. , 3.5, 4.5, 4. , 3. , 0.5, 1.5, 2. ,\n",
       "       2.5, 3. , 3. , 3.5, 3. , 4. , 3. , 4.5, 2. , 2.5, 1.5, 4.5, 1.5,\n",
       "       3. , 3.5, 2.5, 0. , 3. , 2.5, 2.5, 1. , 3.5, 3.5, 5. , 2. , 6. ,\n",
       "       2.5, 1.5, 3. , 1. , 1. , 2.5, 1.5, 3.5, 1. , 3.5, 5. , 1.5, 1.5,\n",
       "       2.5, 2.5, 3.5, 1.5, 3.5, 4. , 1. , 4. , 6. , 2.5, 2.5, 1.5, 1. ,\n",
       "       2.5, 3. , 3.5, 2. , 4. , 3.5, 2. , 1.5, 1.5, 3. , 3. , 3. , 4.5,\n",
       "       4. , 1.5, 2.5, 4. , 3. , 2. , 4. , 2. , 2.5, 1. , 3. , 2. , 3. ,\n",
       "       1.5, 1.5, 2.5, 2. , 2.5, 3.5, 2. , 3. , 2.5, 1.5, 3.5, 2. , 2.5,\n",
       "       4.5, 2. , 2.5, 1.5, 3. , 2. , 1. , 0.5, 3. , 4. , 3. , 4.5, 4. ,\n",
       "       2. , 3.5, 1. , 2.5, 1.5, 3.5, 1.5, 1. , 1.5, 5.5, 3. , 2. , 1.5,\n",
       "       4.5, 2. , 6.5, 3. , 3. , 1.5, 1.5, 3.5, 2. , 1. , 3. , 2.5, 0.5,\n",
       "       2. , 3. , 1.5, 1.5, 3. , 1.5, 1. , 2. , 3.5, 2. , 2.5, 3.5, 0.5,\n",
       "       3. , 2.5, 4. , 2.5, 3. , 1. , 2.5, 3.5, 1.5, 2. , 1.5, 3. , 2. ,\n",
       "       5. , 1. , 3. , 2.5, 5. , 3. , 2.5, 3. , 2.5, 3. , 4.5, 1.5, 3.5,\n",
       "       1.5, 2.5, 4.5, 1.5, 2.5, 3.5, 2. , 3.5, 3.5, 3. , 3. , 3. , 3.5,\n",
       "       5.5, 3. , 2.5, 2.5, 1. , 3.5, 2.5, 1.5, 2. , 4. , 1. , 3.5, 4. ,\n",
       "       4. , 1.5, 2. , 4. , 1. , 4.5])"
      ]
     },
     "execution_count": 143,
     "metadata": {},
     "output_type": "execute_result"
    }
   ],
   "source": [
    "sample_means"
   ]
  },
  {
   "cell_type": "code",
   "execution_count": 148,
   "metadata": {},
   "outputs": [
    {
     "data": {
      "text/plain": [
       "Text(0, 0.5, 'Relative Frequency')"
      ]
     },
     "execution_count": 148,
     "metadata": {},
     "output_type": "execute_result"
    },
    {
     "data": {
      "image/png": "[encoded data removed]",
      "text/plain": [
       "<Figure size 432x288 with 1 Axes>"
      ]
     },
     "metadata": {
      "needs_background": "light"
     },
     "output_type": "display_data"
    }
   ],
   "source": [
    "sns.distplot(sample_means,bins=10,kde=False,fit=s.norm)\n",
    "\n",
    "plt.xlabel(\"Sample Mean of Sample Size=2\")\n",
    "\n",
    "plt.ylabel(\"Relative Frequency\")"
   ]
  },
  {
   "cell_type": "code",
   "execution_count": 149,
   "metadata": {},
   "outputs": [],
   "source": [
    "var_x_bar_star = np.var(sample_means)"
   ]
  },
  {
   "cell_type": "code",
   "execution_count": 150,
   "metadata": {},
   "outputs": [
    {
     "data": {
      "text/plain": [
       "1.348531"
      ]
     },
     "execution_count": 150,
     "metadata": {},
     "output_type": "execute_result"
    }
   ],
   "source": [
    "var_x_bar_star"
   ]
  },
  {
   "cell_type": "code",
   "execution_count": 151,
   "metadata": {},
   "outputs": [],
   "source": [
    "sd_mean = np.mean(sample_means)"
   ]
  },
  {
   "cell_type": "code",
   "execution_count": 152,
   "metadata": {},
   "outputs": [
    {
     "data": {
      "text/plain": [
       "2.563"
      ]
     },
     "execution_count": 152,
     "metadata": {},
     "output_type": "execute_result"
    }
   ],
   "source": [
    "sd_mean"
   ]
  },
  {
   "cell_type": "code",
   "execution_count": 153,
   "metadata": {},
   "outputs": [],
   "source": [
    "N = 5\n",
    "\n",
    "poisson_samples = np.random.poisson(lam=2.5,size=(500,N))"
   ]
  },
  {
   "cell_type": "code",
   "execution_count": 154,
   "metadata": {},
   "outputs": [
    {
     "data": {
      "text/plain": [
       "array([[3, 4, 3, 7, 3],\n",
       "       [2, 3, 3, 5, 2],\n",
       "       [6, 4, 3, 1, 1],\n",
       "       ...,\n",
       "       [1, 1, 2, 3, 2],\n",
       "       [3, 3, 3, 3, 5],\n",
       "       [2, 5, 2, 3, 1]])"
      ]
     },
     "execution_count": 154,
     "metadata": {},
     "output_type": "execute_result"
    }
   ],
   "source": [
    "poisson_samples"
   ]
  },
  {
   "cell_type": "code",
   "execution_count": 156,
   "metadata": {},
   "outputs": [],
   "source": [
    "sample_means = np.mean(poisson_samples,axis=1)"
   ]
  },
  {
   "cell_type": "code",
   "execution_count": 157,
   "metadata": {},
   "outputs": [
    {
     "data": {
      "text/plain": [
       "array([4. , 3. , 3. , 3.4, 2.6, 2. , 4.2, 2. , 3.4, 2.2, 3.6, 2.6, 1.8,\n",
       "       2.6, 2.8, 2. , 2.6, 2.2, 3.4, 3.2, 3.2, 1.8, 1.6, 1.2, 3. , 2.6,\n",
       "       2.4, 2.2, 3.6, 1.6, 0.4, 2.6, 2. , 2.6, 2.4, 4.2, 3.6, 2.8, 3.2,\n",
       "       3.4, 3.6, 3. , 3.6, 3.4, 3.4, 2. , 1.6, 4.6, 2.2, 1.2, 2.6, 3.4,\n",
       "       2.6, 3. , 2.8, 1.8, 2.2, 2.6, 2.6, 1.6, 2.4, 3. , 1.8, 2.6, 2.8,\n",
       "       2.8, 2.2, 2.4, 2.6, 1.8, 2.2, 3.2, 2.4, 2.8, 2.6, 2.6, 2. , 4. ,\n",
       "       3.4, 4. , 4. , 2.8, 1.4, 3.4, 3. , 2. , 3. , 2.8, 1.8, 1.8, 3. ,\n",
       "       3. , 1.8, 3.8, 1.4, 2. , 2.8, 1.8, 1.2, 3.4, 3.6, 1.8, 3. , 3.4,\n",
       "       2.4, 2.8, 2.4, 2. , 2.4, 4. , 1.6, 2.6, 2.2, 3.4, 3.2, 3.4, 3.2,\n",
       "       4.4, 2.8, 2.4, 2.4, 1.6, 3.6, 0.8, 2.2, 2. , 2. , 2. , 1.6, 2.6,\n",
       "       2.8, 2.8, 2.8, 3.2, 1.6, 2.8, 2.4, 2.4, 2.6, 2.8, 3. , 2.6, 3.4,\n",
       "       2. , 2. , 2. , 1.6, 1.2, 1.8, 2.4, 3.2, 2.4, 1.8, 2.4, 3.6, 2.4,\n",
       "       1.2, 3.6, 1.6, 1.8, 2. , 2. , 1.2, 2.2, 3.6, 3. , 2. , 2.2, 3. ,\n",
       "       2.4, 1.8, 4.2, 2. , 1.8, 2. , 1.6, 1.8, 2.6, 2. , 3.2, 3.4, 2.4,\n",
       "       1.4, 2.2, 2.4, 2.4, 1.6, 3.2, 3.2, 1.2, 3.2, 3.8, 3. , 2.4, 3. ,\n",
       "       2.6, 1.2, 2.4, 1. , 1.4, 2.4, 3.2, 2.2, 2.8, 2.2, 2. , 2. , 1.4,\n",
       "       2.8, 3. , 1.8, 2.6, 3.8, 2.2, 2.8, 1. , 1.8, 1.4, 3.8, 2.8, 3.4,\n",
       "       3.2, 3.8, 1.4, 3.2, 2.6, 1.6, 1.6, 2.2, 1.8, 3.6, 2. , 3. , 1.8,\n",
       "       2.4, 2.8, 3. , 2. , 2.4, 2.6, 2.2, 2.4, 2.4, 2.2, 2. , 1.6, 0.8,\n",
       "       2.6, 2.6, 1.6, 2.8, 1.4, 2. , 2.2, 3. , 3.4, 4. , 2.6, 1.6, 2. ,\n",
       "       2. , 3.4, 2.4, 3. , 3.2, 2.4, 2.4, 3. , 2.2, 2. , 2.4, 2.6, 1.8,\n",
       "       3. , 2.2, 2.2, 1.6, 2.4, 3.2, 2.4, 3. , 2. , 3.4, 2.2, 2.2, 2.8,\n",
       "       3.6, 2.2, 2.4, 2. , 2.4, 2.2, 3.8, 2.2, 2.2, 2.2, 2.6, 1.2, 2.2,\n",
       "       2.2, 2.4, 2.6, 1.8, 3. , 3.2, 2.2, 2.2, 2.4, 3.2, 2. , 4. , 2.8,\n",
       "       1.4, 1.8, 1.4, 3.8, 2.2, 2. , 3.2, 1.8, 2.4, 2.4, 2.6, 2.4, 2.6,\n",
       "       3. , 2.6, 2.8, 2.8, 3. , 2.8, 1.8, 2.4, 2.6, 1.6, 2.6, 2.6, 3.4,\n",
       "       0.8, 3.8, 3.6, 1.8, 2.2, 2.2, 2.8, 3. , 3.8, 2. , 2.4, 2.6, 1.8,\n",
       "       2.8, 2.6, 1.2, 3. , 2.4, 4.2, 2.8, 1.6, 3.4, 2. , 3.6, 3.6, 2.6,\n",
       "       3.4, 2.6, 2.6, 3. , 3.8, 3. , 1.8, 3.6, 2. , 3. , 2.2, 2.4, 2. ,\n",
       "       1.8, 4. , 2.8, 3.2, 3.8, 1.8, 1.4, 3.2, 3.2, 2.8, 2.4, 2.8, 4. ,\n",
       "       2.8, 2. , 2.8, 4. , 2.2, 0.8, 3.4, 2.8, 1.8, 2.4, 1.8, 2.8, 2.4,\n",
       "       3. , 1.6, 3.4, 3. , 1.8, 1.8, 2.8, 3.2, 1.6, 2.8, 2. , 2.2, 4.2,\n",
       "       2.8, 2.4, 2. , 2.8, 2.8, 2. , 3.6, 1.8, 2. , 3.4, 3.4, 3.4, 2.8,\n",
       "       2.8, 1.8, 1.8, 1.8, 3. , 2.6, 1.8, 2.6, 2.6, 2. , 3.6, 2.2, 2.6,\n",
       "       2.2, 3.8, 3.4, 2.4, 2.8, 3.4, 2.6, 2.4, 2.6, 0.8, 3. , 3.6, 3.2,\n",
       "       1.8, 1.6, 2.4, 3.2, 2.2, 1.2, 2.4, 1.6, 2.2, 1.6, 2.6, 1. , 2. ,\n",
       "       3.2, 2.2, 2.2, 2.4, 2.6, 3.4, 3.2, 3. , 3.2, 2. , 1. , 1.8, 2.6,\n",
       "       3. , 3. , 1.2, 3.6, 2.4, 3.6, 2.8, 2.8, 2.4, 2. , 2.8, 2.4, 2.6,\n",
       "       1.8, 2. , 4.4, 1.8, 3.4, 2.6])"
      ]
     },
     "execution_count": 157,
     "metadata": {},
     "output_type": "execute_result"
    }
   ],
   "source": [
    "sample_means"
   ]
  },
  {
   "cell_type": "code",
   "execution_count": 159,
   "metadata": {},
   "outputs": [
    {
     "data": {
      "text/plain": [
       "Text(0, 0.5, 'Relative Frequency')"
      ]
     },
     "execution_count": 159,
     "metadata": {},
     "output_type": "execute_result"
    },
    {
     "data": {
      "image/png": "[encoded data removed]",
      "text/plain": [
       "<Figure size 432x288 with 1 Axes>"
      ]
     },
     "metadata": {
      "needs_background": "light"
     },
     "output_type": "display_data"
    }
   ],
   "source": [
    "sns.distplot(sample_means,bins=10,kde=False,fit=s.norm)\n",
    "\n",
    "plt.xlabel(\"Sample Mean of Sample Size=5\")\n",
    "\n",
    "plt.ylabel(\"Relative Frequency\")"
   ]
  },
  {
   "cell_type": "code",
   "execution_count": 160,
   "metadata": {},
   "outputs": [],
   "source": [
    "var_x_bar_star = np.var(sample_means)"
   ]
  },
  {
   "cell_type": "code",
   "execution_count": 161,
   "metadata": {},
   "outputs": [
    {
     "data": {
      "text/plain": [
       "0.5341713600000001"
      ]
     },
     "execution_count": 161,
     "metadata": {},
     "output_type": "execute_result"
    }
   ],
   "source": [
    "var_x_bar_star"
   ]
  },
  {
   "cell_type": "code",
   "execution_count": 162,
   "metadata": {},
   "outputs": [],
   "source": [
    "sd_mean = np.mean(sample_means)"
   ]
  },
  {
   "cell_type": "code",
   "execution_count": 163,
   "metadata": {},
   "outputs": [
    {
     "data": {
      "text/plain": [
       "2.5308"
      ]
     },
     "execution_count": 163,
     "metadata": {},
     "output_type": "execute_result"
    }
   ],
   "source": [
    "sd_mean"
   ]
  },
  {
   "cell_type": "code",
   "execution_count": 164,
   "metadata": {},
   "outputs": [],
   "source": [
    "N = 40\n",
    "\n",
    "poisson_samples = np.random.poisson(lam=2.5,size=(500,N))"
   ]
  },
  {
   "cell_type": "code",
   "execution_count": 165,
   "metadata": {},
   "outputs": [
    {
     "data": {
      "text/plain": [
       "array([[3, 4, 2, ..., 1, 2, 1],\n",
       "       [1, 1, 3, ..., 2, 6, 5],\n",
       "       [0, 5, 0, ..., 2, 3, 1],\n",
       "       ...,\n",
       "       [3, 3, 3, ..., 6, 5, 0],\n",
       "       [1, 2, 1, ..., 5, 2, 1],\n",
       "       [0, 3, 4, ..., 0, 4, 1]])"
      ]
     },
     "execution_count": 165,
     "metadata": {},
     "output_type": "execute_result"
    }
   ],
   "source": [
    "poisson_samples"
   ]
  },
  {
   "cell_type": "code",
   "execution_count": 169,
   "metadata": {},
   "outputs": [],
   "source": [
    "sample_means = np.mean(poisson_samples,axis=1)"
   ]
  },
  {
   "cell_type": "code",
   "execution_count": 170,
   "metadata": {},
   "outputs": [
    {
     "data": {
      "text/plain": [
       "array([2.75 , 2.55 , 2.35 , 2.625, 2.275, 2.225, 2.825, 2.25 , 2.65 ,\n",
       "       2.425, 2.825, 2.625, 2.9  , 2.625, 2.95 , 2.275, 2.575, 2.275,\n",
       "       2.4  , 2.675, 2.425, 2.85 , 2.65 , 2.2  , 2.125, 2.575, 2.7  ,\n",
       "       2.275, 2.5  , 2.475, 2.425, 2.65 , 2.525, 2.625, 2.8  , 2.525,\n",
       "       2.775, 2.25 , 2.425, 2.4  , 2.475, 2.525, 2.65 , 2.6  , 2.5  ,\n",
       "       2.15 , 2.325, 2.6  , 2.55 , 2.55 , 2.575, 2.325, 2.6  , 2.75 ,\n",
       "       2.45 , 3.1  , 2.375, 2.775, 2.75 , 2.7  , 2.6  , 2.625, 2.375,\n",
       "       2.75 , 2.375, 2.4  , 2.35 , 2.875, 2.375, 2.8  , 2.6  , 2.175,\n",
       "       2.45 , 2.45 , 2.375, 2.55 , 2.7  , 2.35 , 2.575, 2.475, 2.025,\n",
       "       2.6  , 3.025, 2.55 , 2.35 , 2.75 , 2.675, 1.95 , 2.625, 2.55 ,\n",
       "       2.55 , 2.625, 2.6  , 2.425, 2.55 , 2.55 , 2.575, 2.55 , 2.475,\n",
       "       2.525, 1.875, 3.05 , 2.8  , 2.8  , 2.6  , 2.95 , 3.   , 2.325,\n",
       "       2.275, 2.525, 2.25 , 2.275, 2.35 , 2.25 , 2.35 , 2.05 , 2.025,\n",
       "       2.325, 2.625, 2.05 , 2.675, 2.325, 2.175, 2.25 , 2.625, 2.15 ,\n",
       "       2.425, 2.8  , 2.325, 2.725, 2.9  , 2.9  , 2.675, 2.35 , 2.075,\n",
       "       1.8  , 2.9  , 2.55 , 2.15 , 2.675, 2.125, 2.475, 2.3  , 2.475,\n",
       "       3.15 , 2.125, 2.625, 2.3  , 2.55 , 2.5  , 2.575, 2.4  , 2.675,\n",
       "       2.95 , 2.225, 3.025, 2.625, 2.625, 2.825, 2.4  , 2.625, 2.35 ,\n",
       "       2.3  , 2.2  , 2.475, 2.55 , 2.575, 2.625, 2.075, 2.7  , 2.9  ,\n",
       "       2.475, 2.375, 2.725, 2.525, 3.075, 2.25 , 2.4  , 2.95 , 2.525,\n",
       "       2.95 , 2.525, 2.3  , 2.5  , 2.5  , 2.475, 2.5  , 2.675, 2.625,\n",
       "       2.6  , 1.975, 2.925, 2.8  , 2.325, 2.35 , 2.825, 2.325, 2.575,\n",
       "       2.5  , 2.475, 3.025, 2.3  , 2.525, 2.575, 2.5  , 2.675, 2.15 ,\n",
       "       2.1  , 2.35 , 2.425, 2.35 , 2.375, 2.15 , 2.6  , 2.325, 2.625,\n",
       "       2.5  , 2.95 , 2.05 , 2.3  , 2.425, 2.725, 2.8  , 2.6  , 2.325,\n",
       "       2.525, 2.45 , 2.275, 2.3  , 2.6  , 2.25 , 2.125, 2.675, 2.6  ,\n",
       "       2.425, 2.55 , 2.725, 2.15 , 2.075, 2.45 , 2.425, 2.25 , 2.3  ,\n",
       "       2.6  , 2.35 , 1.75 , 2.05 , 2.45 , 2.65 , 2.6  , 3.275, 3.275,\n",
       "       2.425, 2.525, 2.475, 3.325, 2.725, 2.575, 2.55 , 2.175, 2.4  ,\n",
       "       2.55 , 2.2  , 2.3  , 2.575, 2.325, 2.55 , 2.7  , 2.5  , 2.2  ,\n",
       "       2.95 , 2.3  , 2.45 , 2.4  , 2.55 , 2.45 , 2.325, 2.65 , 2.275,\n",
       "       2.175, 2.575, 2.525, 3.025, 2.4  , 2.6  , 2.5  , 2.5  , 2.7  ,\n",
       "       2.625, 2.425, 2.35 , 2.45 , 2.85 , 3.025, 2.925, 2.65 , 2.35 ,\n",
       "       2.8  , 2.7  , 2.525, 2.675, 2.4  , 2.05 , 2.625, 2.925, 2.875,\n",
       "       2.225, 2.375, 2.2  , 2.45 , 2.15 , 2.35 , 2.7  , 2.325, 2.475,\n",
       "       2.825, 2.5  , 2.275, 2.275, 2.575, 2.15 , 2.9  , 2.875, 2.15 ,\n",
       "       2.5  , 2.225, 2.825, 3.375, 2.1  , 2.65 , 2.575, 1.975, 2.45 ,\n",
       "       2.475, 2.025, 2.875, 2.975, 2.725, 2.4  , 2.75 , 2.6  , 2.125,\n",
       "       2.625, 2.15 , 2.5  , 1.55 , 2.475, 2.45 , 2.25 , 2.25 , 2.425,\n",
       "       2.525, 2.4  , 2.725, 2.7  , 2.45 , 2.3  , 2.725, 2.55 , 2.875,\n",
       "       2.3  , 2.575, 2.25 , 2.75 , 2.15 , 2.55 , 2.575, 2.25 , 2.275,\n",
       "       2.8  , 3.   , 2.5  , 2.4  , 2.875, 2.775, 2.45 , 2.35 , 2.35 ,\n",
       "       3.1  , 2.825, 2.125, 2.25 , 2.575, 2.025, 2.375, 2.475, 2.375,\n",
       "       2.5  , 2.325, 2.775, 2.55 , 2.525, 2.475, 2.725, 2.275, 2.375,\n",
       "       2.35 , 2.65 , 2.5  , 2.575, 3.05 , 2.3  , 2.35 , 2.05 , 2.85 ,\n",
       "       2.65 , 2.65 , 2.225, 2.425, 2.5  , 2.375, 2.5  , 2.375, 2.15 ,\n",
       "       2.65 , 2.55 , 2.5  , 2.6  , 2.425, 2.575, 2.675, 2.65 , 2.   ,\n",
       "       2.9  , 2.1  , 2.2  , 2.675, 2.575, 2.5  , 2.2  , 2.5  , 2.675,\n",
       "       2.55 , 2.2  , 2.9  , 3.15 , 2.975, 2.25 , 2.925, 2.775, 2.675,\n",
       "       2.725, 2.375, 2.6  , 2.525, 2.2  , 2.575, 2.725, 2.675, 2.475,\n",
       "       2.275, 1.875, 2.45 , 2.275, 2.125, 2.375, 2.55 , 2.65 , 2.475,\n",
       "       2.525, 2.45 , 1.8  , 1.975, 2.8  , 2.575, 1.875, 2.55 , 2.25 ,\n",
       "       2.875, 2.675, 2.375, 2.575, 2.6  , 2.25 , 2.675, 2.375, 2.75 ,\n",
       "       2.325, 2.45 , 2.675, 2.375, 2.8  , 2.3  , 2.05 , 2.675, 3.15 ,\n",
       "       2.625, 2.025, 2.175, 2.625, 2.5  , 2.3  , 2.25 , 2.65 , 2.2  ,\n",
       "       2.725, 2.45 , 2.65 , 2.725, 2.25 ])"
      ]
     },
     "execution_count": 170,
     "metadata": {},
     "output_type": "execute_result"
    }
   ],
   "source": [
    "sample_means"
   ]
  },
  {
   "cell_type": "code",
   "execution_count": 172,
   "metadata": {},
   "outputs": [
    {
     "data": {
      "text/plain": [
       "Text(0, 0.5, 'Relative Frequency')"
      ]
     },
     "execution_count": 172,
     "metadata": {},
     "output_type": "execute_result"
    },
    {
     "data": {
      "image/png": "[encoded data removed]",
      "text/plain": [
       "<Figure size 432x288 with 1 Axes>"
      ]
     },
     "metadata": {
      "needs_background": "light"
     },
     "output_type": "display_data"
    }
   ],
   "source": [
    "sns.distplot(sample_means,bins=10,kde=False,fit=s.norm)\n",
    "\n",
    "plt.xlabel(\"Sample Mean of Sample Size=40\")\n",
    "\n",
    "plt.ylabel(\"Relative Frequency\")"
   ]
  },
  {
   "cell_type": "code",
   "execution_count": 173,
   "metadata": {},
   "outputs": [],
   "source": [
    "var_x_bar_star = np.var(sample_means)"
   ]
  },
  {
   "cell_type": "code",
   "execution_count": 174,
   "metadata": {},
   "outputs": [
    {
     "data": {
      "text/plain": [
       "0.06932774750000001"
      ]
     },
     "execution_count": 174,
     "metadata": {},
     "output_type": "execute_result"
    }
   ],
   "source": [
    "var_x_bar_star"
   ]
  },
  {
   "cell_type": "code",
   "execution_count": 175,
   "metadata": {},
   "outputs": [],
   "source": [
    "sd_mean = np.mean(sample_means)"
   ]
  },
  {
   "cell_type": "code",
   "execution_count": 176,
   "metadata": {},
   "outputs": [
    {
     "data": {
      "text/plain": [
       "2.5024499999999996"
      ]
     },
     "execution_count": 176,
     "metadata": {},
     "output_type": "execute_result"
    }
   ],
   "source": [
    "sd_mean"
   ]
  },
  {
   "cell_type": "markdown",
   "metadata": {},
   "source": [
    "# There is a mysterious distribution where non of the descriptive statistics are MVUE of the parameter of that distribution and it's Rayleigh Distribution. "
   ]
  },
  {
   "cell_type": "code",
   "execution_count": null,
   "metadata": {},
   "outputs": [],
   "source": []
  }
 ],
 "metadata": {
  "kernelspec": {
   "display_name": "Python 3",
   "language": "python",
   "name": "python3"
  },
  "language_info": {
   "codemirror_mode": {
    "name": "ipython",
    "version": 3
   },
   "file_extension": ".py",
   "mimetype": "text/x-python",
   "name": "python",
   "nbconvert_exporter": "python",
   "pygments_lexer": "ipython3",
   "version": "3.7.3"
  }
 },
 "nbformat": 4,
 "nbformat_minor": 2
}
